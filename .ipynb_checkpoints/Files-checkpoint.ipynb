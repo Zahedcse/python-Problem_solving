{
 "cells": [
  {
   "cell_type": "code",
   "execution_count": 2,
   "metadata": {},
   "outputs": [
    {
     "name": "stdout",
     "output_type": "stream",
     "text": [
      "['Country', 'Capital', 'Currency']\n",
      "['Bangladesh', 'Dhaka', 'Taka']\n",
      "['India', 'New-Delhi', 'Rupee']\n",
      "['Nepal', 'Katmundu', 'Rupee']\n",
      "['Saudia-Arabia', 'Riyad', 'Riyal']\n",
      "['USA', 'New-York', 'Dollar']\n"
     ]
    }
   ],
   "source": [
    "file = open('Datasets/country.txt','r')\n",
    "\n",
    "country = []\n",
    "for lines in file:\n",
    "#     print(lines)\n",
    "    x=lines.split()\n",
    "    print(x)\n",
    "    country.append(x)"
   ]
  },
  {
   "cell_type": "code",
   "execution_count": 6,
   "metadata": {},
   "outputs": [
    {
     "name": "stdout",
     "output_type": "stream",
     "text": [
      "{'Country': 'Capital', 'Bangladesh': 'Dhaka', 'India': 'New-Delhi', 'Nepal': 'Katmundu', 'Saudia-Arabia': 'Riyad', 'USA': 'New-York'}\n",
      "{'Country': 'Currency', 'Bangladesh': 'Taka', 'India': 'Rupee', 'Nepal': 'Rupee', 'Saudia-Arabia': 'Riyal', 'USA': 'Dollar'}\n"
     ]
    }
   ],
   "source": [
    "capital = {}\n",
    "currency = {}\n",
    "\n",
    "for countries in country:\n",
    "    key = countries[0]\n",
    "    value = countries[1]\n",
    "    second_value = countries[2]\n",
    "    capital[key] = value\n",
    "    currency[key] = second_value\n",
    "print(capital)\n",
    "print(currency)"
   ]
  },
  {
   "cell_type": "code",
   "execution_count": 5,
   "metadata": {},
   "outputs": [
    {
     "name": "stdin",
     "output_type": "stream",
     "text": [
      "Enter a country Name:  bangladesh\n"
     ]
    },
    {
     "name": "stdout",
     "output_type": "stream",
     "text": [
      "The data not found\n"
     ]
    }
   ],
   "source": [
    "x = input(\"Enter a country Name: \")\n",
    "output_file = open('Datasets/output_file.txt','w')\n",
    "\n",
    "if x.lower() in capital:\n",
    "    output_file.write('The capital of '+ x + 'is '+ str(capital[x.lower()]))\n",
    "else:\n",
    "    print('The data not found')"
   ]
  },
  {
   "cell_type": "code",
   "execution_count": null,
   "metadata": {},
   "outputs": [],
   "source": []
  }
 ],
 "metadata": {
  "kernelspec": {
   "display_name": "Python 3",
   "language": "python",
   "name": "python3"
  },
  "language_info": {
   "codemirror_mode": {
    "name": "ipython",
    "version": 3
   },
   "file_extension": ".py",
   "mimetype": "text/x-python",
   "name": "python",
   "nbconvert_exporter": "python",
   "pygments_lexer": "ipython3",
   "version": "3.7.0"
  }
 },
 "nbformat": 4,
 "nbformat_minor": 2
}

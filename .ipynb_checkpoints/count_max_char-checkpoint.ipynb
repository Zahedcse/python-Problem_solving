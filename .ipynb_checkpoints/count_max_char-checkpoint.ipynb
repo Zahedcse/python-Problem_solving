{
 "cells": [
  {
   "cell_type": "code",
   "execution_count": 18,
   "id": "14f06763-88f4-40b7-a8e1-31c36e95b7b5",
   "metadata": {
    "tags": []
   },
   "outputs": [
    {
     "name": "stdin",
     "output_type": "stream",
     "text": [
      "Enter a String:  whatever(1877)\n"
     ]
    },
    {
     "name": "stdout",
     "output_type": "stream",
     "text": [
      "1\n",
      "w has odd frequency\n",
      "1\n",
      "h has odd frequency\n",
      "1\n",
      "a has odd frequency\n",
      "1\n",
      "t has odd frequency\n",
      "2\n",
      "1\n",
      "v has odd frequency\n",
      "0\n",
      "1\n",
      "r has odd frequency\n",
      "1\n",
      "( has odd frequency\n",
      "1\n",
      "1 has odd frequency\n",
      "1\n",
      "8 has odd frequency\n",
      "2\n",
      "0\n",
      "1\n",
      ") has odd frequency\n",
      "The maximum frequency is:  2 and the character are:  ee7\n"
     ]
    }
   ],
   "source": [
    "x = input('Enter a String: ').lower()\n",
    "max_ = 0\n",
    "max_str = \"\"\n",
    "for i in x:\n",
    "    d = x.count(i)\n",
    "    x = x.replace(i,'')\n",
    "    print(d)\n",
    "    if d % 2 == 1:\n",
    "        print(i, 'has odd frequency', )\n",
    "    if d > max_:\n",
    "        max_ = d\n",
    "        max_str = i\n",
    "    if d == max_:\n",
    "        max_str+=i\n",
    "if len(max_str) == 1:\n",
    "    print('The maximum frequency is:',max_,'and the character is: ',max_str)\n",
    "elif len(max_str) > 1:\n",
    "    print('The maximum frequency is: ',max_,'and the character are: ',max_str)\n",
    "else:\n",
    "    print('There is no maximum frequency')"
   ]
  },
  {
   "cell_type": "code",
   "execution_count": 19,
   "id": "1a6b3946-c5ec-41e2-aac0-1bce1bf901ef",
   "metadata": {
    "tags": []
   },
   "outputs": [
    {
     "name": "stdin",
     "output_type": "stream",
     "text": [
      "Enter a String:  whatever\n"
     ]
    },
    {
     "name": "stdout",
     "output_type": "stream",
     "text": [
      "The maximum frequency is: 2 and the character is: e\n"
     ]
    }
   ],
   "source": [
    "x = input('Enter a String: ').lower()\n",
    "char_counts = {}\n",
    "for i in x:\n",
    "    if i in char_counts:\n",
    "        char_counts[i] += 1\n",
    "    else:\n",
    "        char_counts[i] = 1\n",
    "\n",
    "max_frequency = 0\n",
    "max_chars = \"\"\n",
    "for char, frequency in char_counts.items():\n",
    "    if frequency > max_frequency:\n",
    "        max_frequency = frequency\n",
    "        max_chars = char\n",
    "    elif frequency == max_frequency:\n",
    "        max_chars += char\n",
    "\n",
    "if max_frequency == 0:\n",
    "    print(\"There is no maximum frequency\")\n",
    "elif len(max_chars) == 1:\n",
    "    print(f\"The maximum frequency is: {max_frequency} and the character is: {max_chars}\")\n",
    "else:\n",
    "    print(f\"The maximum frequency is: {max_frequency} and the characters are: {max_chars}\")\n"
   ]
  },
  {
   "cell_type": "code",
   "execution_count": 4,
   "id": "7829db74-bdbf-4a0a-8d0a-5f084383f408",
   "metadata": {},
   "outputs": [
    {
     "name": "stdin",
     "output_type": "stream",
     "text": [
      "Enter a word whatever\n"
     ]
    },
    {
     "ename": "TypeError",
     "evalue": "'>' not supported between instances of 'int' and 'str'",
     "output_type": "error",
     "traceback": [
      "\u001b[0;31m---------------------------------------------------------------------------\u001b[0m",
      "\u001b[0;31mTypeError\u001b[0m                                 Traceback (most recent call last)",
      "Cell \u001b[0;32mIn[4], line 13\u001b[0m\n\u001b[1;32m     10\u001b[0m max_chars \u001b[38;5;241m=\u001b[39m \u001b[38;5;124m'\u001b[39m\u001b[38;5;124m'\u001b[39m\n\u001b[1;32m     12\u001b[0m \u001b[38;5;28;01mfor\u001b[39;00m char, frequency \u001b[38;5;129;01min\u001b[39;00m char_counts\u001b[38;5;241m.\u001b[39mitems():\n\u001b[0;32m---> 13\u001b[0m     \u001b[38;5;28;01mif\u001b[39;00m \u001b[43mfrequency\u001b[49m\u001b[43m \u001b[49m\u001b[38;5;241;43m>\u001b[39;49m\u001b[43m \u001b[49m\u001b[43mmax_chars\u001b[49m:\n\u001b[1;32m     14\u001b[0m         max_frequency \u001b[38;5;241m=\u001b[39m frequency\n\u001b[1;32m     15\u001b[0m         max_chars \u001b[38;5;241m=\u001b[39m char\n",
      "\u001b[0;31mTypeError\u001b[0m: '>' not supported between instances of 'int' and 'str'"
     ]
    }
   ],
   "source": [
    "x = input('Enter a word').lower()\n",
    "char_counts = {}\n",
    "for i in x:\n",
    "    if i in char_counts:\n",
    "        char_counts[i]+=1\n",
    "    else:\n",
    "        char_counts[i] = 1\n",
    "    \n",
    "max_frequency = 0\n",
    "max_chars = ''\n",
    "\n",
    "for char, frequency in char_counts.items():\n",
    "    if frequency > max_frequency:\n",
    "        max_frequency = frequency\n",
    "        max_chars = char\n",
    "    elif frequency == max_frequency:\n",
    "        max_chars += char\n",
    "    \n",
    "if max_frequency == 0:\n",
    "    print(\"There is no frequency\")\n",
    "elif len (max_chars) == 1:\n",
    "    print(f\"maximum frequency is: {max_frequency} and The char is: {max_chars}\")\n",
    "else:\n",
    "    print(f\"The maximum frequency is: {max_frequency} and the characters are: {max_chars}\")\n"
   ]
  },
  {
   "cell_type": "code",
   "execution_count": null,
   "id": "2da56329-7aae-40d3-97e7-3545ba66fe20",
   "metadata": {},
   "outputs": [],
   "source": []
  }
 ],
 "metadata": {
  "kernelspec": {
   "display_name": "Python 3 (ipykernel)",
   "language": "python",
   "name": "python3"
  },
  "language_info": {
   "codemirror_mode": {
    "name": "ipython",
    "version": 3
   },
   "file_extension": ".py",
   "mimetype": "text/x-python",
   "name": "python",
   "nbconvert_exporter": "python",
   "pygments_lexer": "ipython3",
   "version": "3.10.6"
  }
 },
 "nbformat": 4,
 "nbformat_minor": 5
}

{
 "cells": [
  {
   "cell_type": "code",
   "execution_count": 1,
   "id": "3359381c-39f0-4793-9168-b24dbced8c86",
   "metadata": {
    "tags": []
   },
   "outputs": [
    {
     "name": "stdin",
     "output_type": "stream",
     "text": [
      "How many items do you want to add to the dictionary?  2\n",
      "Enter Name of the item 1:  rice\n",
      "Enter price for item rice per KG: 65\n",
      "Enter Name of the item 2:  oil\n",
      "Enter price for item oil per KG: 100\n",
      "Enter the items:  rice 5kg, oil 5kg\n"
     ]
    },
    {
     "name": "stdout",
     "output_type": "stream",
     "text": [
      "rice = 5.0 * 65 = 325.0\n",
      "oil = 5.0 * 100 = 500.0\n",
      "The total price is : 825.0\n"
     ]
    }
   ],
   "source": [
    "# Initialize an empty dictionary\n",
    "price = {}\n",
    "\n",
    "# Take user input for number of items\n",
    "num_items = int(input(\"How many items do you want to add to the dictionary? \"))\n",
    "\n",
    "# Use a for loop to iterate through the range of num_items\n",
    "for i in range(num_items):\n",
    "    # Take user input for key and value\n",
    "    key = input(\"Enter Name of the item {}: \".format(i+1)).lower()\n",
    "    value = int(input('Enter price for item {} per KG:' .format(key)))\n",
    "    \n",
    "    # Insert key-value pair into dictionary\n",
    "    price[key] = value\n",
    "\n",
    "\n",
    "goods = input('Enter the items: ').split(',')\n",
    "sum_ = 0\n",
    "sum_initial = 0\n",
    "for element in goods:\n",
    "    z = element.split()\n",
    "    item = z[0]\n",
    "    if z[1][-1] == 'm':\n",
    "        quantity = float(z[1][:-2] / 1000)\n",
    "    else:\n",
    "        quantity = float(z[1][:-2])\n",
    "        print('{} = {} * {} = {}'.format(item,quantity,price[item], quantity * price[item]))\n",
    "        # sum_initial += price[item.lower()] * quantity\n",
    "        \n",
    "    sum_ += price[item.lower()] * quantity\n",
    "    # print(quantity, price[item], sum_initial)\n",
    "print('The total price is :', sum_)"
   ]
  },
  {
   "cell_type": "code",
   "execution_count": null,
   "id": "d61e9011-2605-425f-afc9-2208d0b398f7",
   "metadata": {},
   "outputs": [],
   "source": []
  }
 ],
 "metadata": {
  "kernelspec": {
   "display_name": "Python 3 (ipykernel)",
   "language": "python",
   "name": "python3"
  },
  "language_info": {
   "codemirror_mode": {
    "name": "ipython",
    "version": 3
   },
   "file_extension": ".py",
   "mimetype": "text/x-python",
   "name": "python",
   "nbconvert_exporter": "python",
   "pygments_lexer": "ipython3",
   "version": "3.10.6"
  }
 },
 "nbformat": 4,
 "nbformat_minor": 5
}

{
 "cells": [
  {
   "cell_type": "code",
   "execution_count": 13,
   "id": "2131ce7d-4ba5-4be3-a088-83a088a5b703",
   "metadata": {
    "tags": []
   },
   "outputs": [
    {
     "name": "stdout",
     "output_type": "stream",
     "text": [
      "5 7\n"
     ]
    },
    {
     "data": {
      "text/plain": [
       "[-9, -8, -4, 5, 6, 7, 8, 9]"
      ]
     },
     "execution_count": 13,
     "metadata": {},
     "output_type": "execute_result"
    }
   ],
   "source": [
    "x = [-4,-8,-9,5,9,7,8,6]\n",
    "sum = 16\n",
    "current = 0\n",
    "x = sorted(x)\n",
    "left = 0\n",
    "right = len(x)-1\n",
    "flag = True\n",
    "while left != right:\n",
    "    current = x[left] + x[right]\n",
    "    if current == sum:\n",
    "        print(left, right)\n",
    "        flag = False\n",
    "        break\n",
    "    elif current < sum:\n",
    "        left += 1\n",
    "    else:\n",
    "        right -= 1\n",
    "if flag:    \n",
    "    print('Not Found')\n",
    "x"
   ]
  },
  {
   "cell_type": "markdown",
   "id": "7a1fbe63-1a0f-47e2-b7b4-6688c217d068",
   "metadata": {},
   "source": [
    "# List of string will be given and need to print to line of code"
   ]
  },
  {
   "cell_type": "raw",
   "id": "cc3b5b8c-d290-40c4-9c7e-0d5b19700046",
   "metadata": {
    "tags": []
   },
   "source": [
    "x = 5\n",
    "y = 3\n",
    "z = 7\n",
    "if y == x:\n",
    "    if z == y:\n",
    "        print(x)\n",
    "        endif\n",
    "    endif\n",
    "else:\n",
    "    do rand stuff\n",
    "    endelse\n",
    "for omuk in tomuk:\n",
    "    sjdnjfdf\n",
    "    fdhfdhf\n",
    "    endfor\n",
    "    \n",
    "    "
   ]
  },
  {
   "cell_type": "code",
   "execution_count": 18,
   "id": "2e28c3f3-5595-4f18-957f-e42ffa310faa",
   "metadata": {
    "tags": []
   },
   "outputs": [
    {
     "name": "stdout",
     "output_type": "stream",
     "text": [
      "x = 5\n",
      "y = 3\n",
      "z = 7\n",
      "if y == z:\n",
      "\tif z == y:\n",
      "\t\tprint(x)\n",
      "\t\tendif\n",
      "\telse:\n",
      "\tdo random stuff\n",
      "\tendelse\n",
      "\tjsdjfdf\n",
      "\tdfsdfsf\n",
      "\tfor omuk in tomuk:\n",
      "\t\tdffgfg\n",
      "\t\tfgdfgdf\n",
      "\t\tendfor\n"
     ]
    }
   ],
   "source": [
    "x = ['x = 5','y = 3', 'z = 7', 'if y == z:','if z == y:','print(x)','endif','else:',\n",
    "    'do random stuff','endelse','jsdjfdf','dfsdfsf','for omuk in tomuk:','dffgfg',\n",
    "    'fgdfgdf','endfor']\n",
    "\n",
    "t = 0\n",
    "for line in x:\n",
    "    for i in range(t):\n",
    "        print('\\t', end = '')\n",
    "    print(line)\n",
    "    \n",
    "    if line.startswith('if') or line.startswith('for'):\n",
    "        t += 1\n",
    "    elif line.endswith('endif') or line.startswith('endfor'):\n",
    "        if t > 0:\n",
    "            t -= 1"
   ]
  },
  {
   "cell_type": "code",
   "execution_count": 2,
   "id": "9896f621-96e7-47b9-8c58-cea03aade2b6",
   "metadata": {
    "collapsed": true,
    "jupyter": {
     "outputs_hidden": true
    },
    "tags": []
   },
   "outputs": [
    {
     "name": "stdin",
     "output_type": "stream",
     "text": [
      "Enter the Integers:  3 4 5 776 \n"
     ]
    },
    {
     "name": "stdout",
     "output_type": "stream",
     "text": [
      "197.0\n"
     ]
    },
    {
     "name": "stdin",
     "output_type": "stream",
     "text": [
      "Enter the Integers:  stop\n"
     ]
    },
    {
     "ename": "ValueError",
     "evalue": "invalid literal for int() with base 10: 'stop'",
     "output_type": "error",
     "traceback": [
      "\u001b[0;31m---------------------------------------------------------------------------\u001b[0m",
      "\u001b[0;31mValueError\u001b[0m                                Traceback (most recent call last)",
      "Cell \u001b[0;32mIn[2], line 6\u001b[0m\n\u001b[1;32m      4\u001b[0m x \u001b[38;5;241m=\u001b[39m x\u001b[38;5;241m.\u001b[39msplit()\n\u001b[1;32m      5\u001b[0m \u001b[38;5;28;01mfor\u001b[39;00m i \u001b[38;5;129;01min\u001b[39;00m x:\n\u001b[0;32m----> 6\u001b[0m     numbers\u001b[38;5;241m.\u001b[39mappend(\u001b[38;5;28;43mint\u001b[39;49m\u001b[43m(\u001b[49m\u001b[43mi\u001b[49m\u001b[43m)\u001b[49m)\n\u001b[1;32m      7\u001b[0m s \u001b[38;5;241m=\u001b[39m \u001b[38;5;28msum\u001b[39m(numbers)\n\u001b[1;32m      8\u001b[0m mean \u001b[38;5;241m=\u001b[39m s\u001b[38;5;241m/\u001b[39m\u001b[38;5;28mlen\u001b[39m(numbers)\n",
      "\u001b[0;31mValueError\u001b[0m: invalid literal for int() with base 10: 'stop'"
     ]
    }
   ],
   "source": [
    "numbers = []\n",
    "while True:\n",
    "    x = input('Enter the Integers: ')\n",
    "    x = x.split()\n",
    "    for i in x:\n",
    "        numbers.append(int(i))\n",
    "    s = sum(numbers)\n",
    "    mean = s/len(numbers)\n",
    "    print(mean)\n",
    "    if x == 'stop':\n",
    "        break\n",
    "    else:\n",
    "        continue\n",
    "        "
   ]
  },
  {
   "cell_type": "code",
   "execution_count": 5,
   "id": "17f74d2d-82cb-46ee-bec5-87987dd68aa2",
   "metadata": {
    "tags": []
   },
   "outputs": [
    {
     "name": "stdin",
     "output_type": "stream",
     "text": [
      "Enter the Integers:  2 334 45 56\n"
     ]
    },
    {
     "name": "stdout",
     "output_type": "stream",
     "text": [
      "Mean --> 109.25\n"
     ]
    },
    {
     "name": "stdin",
     "output_type": "stream",
     "text": [
      "Enter the Integers:  stop\n"
     ]
    }
   ],
   "source": [
    "numbers = []\n",
    "while True:\n",
    "    x = input('Enter the Integers: ')\n",
    "    if not x:\n",
    "        continue\n",
    "    if x == 'stop':\n",
    "        break\n",
    "    for i in x.split():\n",
    "        numbers.append(int(i))\n",
    "    s = sum(numbers)\n",
    "    mean = s/len(numbers)\n",
    "    print('Mean:',mean)\n",
    "    numbers = []\n"
   ]
  },
  {
   "cell_type": "code",
   "execution_count": null,
   "id": "25bbf55a-7330-4e39-9003-442865547eee",
   "metadata": {},
   "outputs": [],
   "source": []
  }
 ],
 "metadata": {
  "kernelspec": {
   "display_name": "Python 3 (ipykernel)",
   "language": "python",
   "name": "python3"
  },
  "language_info": {
   "codemirror_mode": {
    "name": "ipython",
    "version": 3
   },
   "file_extension": ".py",
   "mimetype": "text/x-python",
   "name": "python",
   "nbconvert_exporter": "python",
   "pygments_lexer": "ipython3",
   "version": "3.10.6"
  }
 },
 "nbformat": 4,
 "nbformat_minor": 5
}

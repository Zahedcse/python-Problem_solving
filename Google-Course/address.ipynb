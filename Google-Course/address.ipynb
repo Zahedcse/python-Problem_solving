{
 "cells": [
  {
   "cell_type": "code",
   "execution_count": 44,
   "id": "96847ade-2937-47a2-9f4e-50a418136665",
   "metadata": {
    "tags": []
   },
   "outputs": [
    {
     "name": "stdout",
     "output_type": "stream",
     "text": [
      "Candidate Name : MD ZAHED ALAM \n",
      "Experinece is : 6 Years\n",
      "\n",
      "Address Details: \n",
      "Village: Charsaha Bhiakri, Post-Office: kasari-Pukur, District: Feni\n",
      "\n",
      "Programming are used: \n",
      "- PHP\n",
      "- Javascript\n",
      "- Python\n",
      "- Laravel\n",
      "\n",
      "--------------------------\n",
      "Candidate Name : SIAM \n",
      "Experinece is : 6 Years\n",
      "\n",
      "Address Details: \n",
      "Village: Debidwar, Post-Office: Debidwar, District: Comilla\n",
      "\n",
      "Programming are used: \n",
      "- Javascript\n",
      "- Python\n",
      "- Laravel\n",
      "\n",
      "--------------------------\n"
     ]
    }
   ],
   "source": [
    "class Personal:\n",
    "    def __init__(self,name,programming_language,experience):\n",
    "        self.name = name\n",
    "        self.programming_language = programming_language\n",
    "        self.experience = experience\n",
    "        self.address = None\n",
    "        \n",
    "    def view(self):\n",
    "        if self.name and self.experience:\n",
    "            print ('Candidate Name : {} '.format(self.name.upper()) +'\\n' + 'Experinece is : {} Years'.format(self.experience))\n",
    "        \n",
    "        print()\n",
    "        \n",
    "        print('Address Details: ')\n",
    "        \n",
    "        if self.address:\n",
    "            print(self.address)\n",
    "        \n",
    "        print()\n",
    "        print('Programming are used: ')\n",
    "        if self.programming_language:\n",
    "            data_type = type(self.programming_language)\n",
    "            \n",
    "            if data_type == list or tuple:\n",
    "                for language in self.programming_language:\n",
    "                    print('-',language)\n",
    "            \n",
    "            print('')\n",
    "            print('--------------------------')\n",
    "            \n",
    "class Address:\n",
    "    def __init__(self,village,po,district):\n",
    "        self.village = village\n",
    "        self.po = po\n",
    "        self.district = district\n",
    "    \n",
    "    def __str__(self):\n",
    "        return ('Village: {}, Post-Office: {}, District: {}'.format(self.village,self.po,self.district))\n",
    "        \n",
    "Zahed = Personal('Md Zahed Alam',('PHP','Javascript','Python','Laravel'),6)\n",
    "Zahed.address = Address('Charsaha Bhiakri','kasari-Pukur','Feni') \n",
    "Zahed.view()\n",
    "\n",
    "siam = Personal('Siam',('Javascript','Python','Laravel'),6)\n",
    "siam.address = Address('Debidwar','Debidwar','Comilla') \n",
    "siam.view()"
   ]
  },
  {
   "cell_type": "code",
   "execution_count": 37,
   "id": "d4c4905b-96d2-44a9-9a17-18bcb7a161ff",
   "metadata": {
    "tags": []
   },
   "outputs": [
    {
     "name": "stdout",
     "output_type": "stream",
     "text": [
      "Candidate Name : NAMIRA JANNAT \n",
      "Experinece is : 9 Years\n",
      "\n",
      "Address Details: \n",
      "Village: Nandan Kanon, Post-Office: Kotwali, District: Chittagong\n",
      "\n",
      "Programming are used: \n",
      "- PHP\n",
      "- Javascript\n",
      "- Python\n",
      "- Laravel\n",
      "\n",
      "--------------------------\n"
     ]
    }
   ],
   "source": [
    "Namira = Personal('Namira Jannat',('PHP','Javascript','Python','Laravel'),9)\n",
    "Namira.address = Address('Nandan Kanon','Kotwali','Chittagong') \n",
    "Namira.view()"
   ]
  },
  {
   "cell_type": "code",
   "execution_count": null,
   "id": "ad339ce9-d3b5-4a2e-9c77-b30616501108",
   "metadata": {},
   "outputs": [],
   "source": []
  }
 ],
 "metadata": {
  "kernelspec": {
   "display_name": "Python 3 (ipykernel)",
   "language": "python",
   "name": "python3"
  },
  "language_info": {
   "codemirror_mode": {
    "name": "ipython",
    "version": 3
   },
   "file_extension": ".py",
   "mimetype": "text/x-python",
   "name": "python",
   "nbconvert_exporter": "python",
   "pygments_lexer": "ipython3",
   "version": "3.10.6"
  }
 },
 "nbformat": 4,
 "nbformat_minor": 5
}

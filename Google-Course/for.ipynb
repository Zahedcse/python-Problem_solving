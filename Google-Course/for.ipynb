{
 "cells": [
  {
   "cell_type": "code",
   "execution_count": 1,
   "metadata": {},
   "outputs": [
    {
     "name": "stdout",
     "output_type": "stream",
     "text": [
      "362880\n"
     ]
    }
   ],
   "source": [
    "product =1\n",
    "for n in range(1,10):\n",
    "    product*=n\n",
    "print(product)"
   ]
  },
  {
   "cell_type": "code",
   "execution_count": 1,
   "metadata": {},
   "outputs": [
    {
     "name": "stdout",
     "output_type": "stream",
     "text": [
      "[0|0][0|1][0|2][0|3][0|4][0|5][0|6]\n",
      "[1|1][1|2][1|3][1|4][1|5][1|6]\n",
      "[2|2][2|3][2|4][2|5][2|6]\n",
      "[3|3][3|4][3|5][3|6]\n",
      "[4|4][4|5][4|6]\n",
      "[5|5][5|6]\n",
      "[6|6]\n"
     ]
    }
   ],
   "source": [
    " for left in range(7):\n",
    "        for right in range(left,7):\n",
    "            print(\"[\" + str(left) + \"|\" + str(right) + \"]\", end= \"\")\n",
    "        print()"
   ]
  },
  {
   "cell_type": "code",
   "execution_count": 7,
   "metadata": {},
   "outputs": [
    {
     "name": "stdout",
     "output_type": "stream",
     "text": [
      "rangpur riders vs Dhaka Gladieators\n",
      "rangpur riders vs Sylhet Strikers\n",
      "rangpur riders vs Fortune Barisal\n",
      "rangpur riders vs Comilla Victorians\n",
      "Dhaka Gladieators vs rangpur riders\n",
      "Dhaka Gladieators vs Sylhet Strikers\n",
      "Dhaka Gladieators vs Fortune Barisal\n",
      "Dhaka Gladieators vs Comilla Victorians\n",
      "Sylhet Strikers vs rangpur riders\n",
      "Sylhet Strikers vs Dhaka Gladieators\n",
      "Sylhet Strikers vs Fortune Barisal\n",
      "Sylhet Strikers vs Comilla Victorians\n",
      "Fortune Barisal vs rangpur riders\n",
      "Fortune Barisal vs Dhaka Gladieators\n",
      "Fortune Barisal vs Sylhet Strikers\n",
      "Fortune Barisal vs Comilla Victorians\n",
      "Comilla Victorians vs rangpur riders\n",
      "Comilla Victorians vs Dhaka Gladieators\n",
      "Comilla Victorians vs Sylhet Strikers\n",
      "Comilla Victorians vs Fortune Barisal\n"
     ]
    }
   ],
   "source": [
    "teams = ['rangpur riders', 'Dhaka Gladieators' , 'Sylhet Strikers' , 'Fortune Barisal', 'Comilla Victorians']\n",
    "for home_team in teams:\n",
    "    for away_team in teams:\n",
    "        if home_team != away_team:\n",
    "            print(home_team + \" vs \" + away_team)"
   ]
  },
  {
   "cell_type": "code",
   "execution_count": 11,
   "metadata": {},
   "outputs": [
    {
     "name": "stdout",
     "output_type": "stream",
     "text": [
      "Hi jahed\n",
      "Hi masud\n",
      "Hi rana\n"
     ]
    }
   ],
   "source": [
    " def greet_friends(friends):\n",
    "        for friend in friends:\n",
    "            print('Hi '+ friend)\n",
    "            \n",
    "greet_friends(['jahed','masud','rana'])"
   ]
  },
  {
   "cell_type": "code",
   "execution_count": 12,
   "metadata": {},
   "outputs": [
    {
     "name": "stdout",
     "output_type": "stream",
     "text": [
      "0\n",
      "0\n",
      "1\n",
      "0\n",
      "1\n",
      "2\n",
      "0\n",
      "1\n",
      "2\n",
      "3\n",
      "0\n",
      "1\n",
      "2\n",
      "3\n",
      "4\n",
      "0\n",
      "1\n",
      "2\n",
      "3\n",
      "4\n",
      "5\n",
      "0\n",
      "1\n",
      "2\n",
      "3\n",
      "4\n",
      "5\n",
      "6\n",
      "0\n",
      "1\n",
      "2\n",
      "3\n",
      "4\n",
      "5\n",
      "6\n",
      "7\n",
      "0\n",
      "1\n",
      "2\n",
      "3\n",
      "4\n",
      "5\n",
      "6\n",
      "7\n",
      "8\n"
     ]
    }
   ],
   "source": [
    "for x in range(10):\n",
    "    for y in range(x):\n",
    "        print(y)"
   ]
  },
  {
   "cell_type": "code",
   "execution_count": 13,
   "metadata": {},
   "outputs": [
    {
     "name": "stdout",
     "output_type": "stream",
     "text": [
      "1\n",
      "4\n",
      "7\n"
     ]
    }
   ],
   "source": [
    "for x in range(1, 10, 3):\n",
    "    print(x)"
   ]
  },
  {
   "cell_type": "code",
   "execution_count": null,
   "metadata": {},
   "outputs": [],
   "source": []
  }
 ],
 "metadata": {
  "kernelspec": {
   "display_name": "Python 3",
   "language": "python",
   "name": "python3"
  },
  "language_info": {
   "codemirror_mode": {
    "name": "ipython",
    "version": 3
   },
   "file_extension": ".py",
   "mimetype": "text/x-python",
   "name": "python",
   "nbconvert_exporter": "python",
   "pygments_lexer": "ipython3",
   "version": "3.7.0"
  }
 },
 "nbformat": 4,
 "nbformat_minor": 2
}

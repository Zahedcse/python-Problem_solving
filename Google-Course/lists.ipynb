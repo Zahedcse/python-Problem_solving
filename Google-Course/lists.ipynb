{
 "cells": [
  {
   "cell_type": "code",
   "execution_count": 1,
   "id": "0a3d6094-d02d-428e-824c-ed0e061539f1",
   "metadata": {
    "tags": []
   },
   "outputs": [
    {
     "data": {
      "text/plain": [
       "['There', 'is', 'a', 'cow', 'where', 'we', 'had', 'played', 'earlier']"
      ]
     },
     "execution_count": 1,
     "metadata": {},
     "output_type": "execute_result"
    }
   ],
   "source": [
    "string = 'There is a cow where we had played earlier'\n",
    "string.split()"
   ]
  },
  {
   "cell_type": "code",
   "execution_count": 2,
   "id": "2f8cc587-10a1-45d2-a43a-b5e152c2b87f",
   "metadata": {
    "tags": []
   },
   "outputs": [
    {
     "data": {
      "text/plain": [
       "True"
      ]
     },
     "execution_count": 2,
     "metadata": {},
     "output_type": "execute_result"
    }
   ],
   "source": [
    "string.endswith('er')"
   ]
  },
  {
   "cell_type": "code",
   "execution_count": 8,
   "id": "a24d62e3-e673-4c29-84ae-f5feb23ab4ac",
   "metadata": {
    "tags": []
   },
   "outputs": [],
   "source": [
    "x = ['zahed',123 ]"
   ]
  },
  {
   "cell_type": "code",
   "execution_count": 9,
   "id": "a3f12851-bfca-455f-a9fd-1679e4d67f83",
   "metadata": {
    "tags": []
   },
   "outputs": [
    {
     "data": {
      "text/plain": [
       "list"
      ]
     },
     "execution_count": 9,
     "metadata": {},
     "output_type": "execute_result"
    }
   ],
   "source": [
    "type(x)"
   ]
  },
  {
   "cell_type": "code",
   "execution_count": 10,
   "id": "8ed3f882-3297-4d1c-b097-c307c378b566",
   "metadata": {
    "tags": []
   },
   "outputs": [
    {
     "data": {
      "text/plain": [
       "False"
      ]
     },
     "execution_count": 10,
     "metadata": {},
     "output_type": "execute_result"
    }
   ],
   "source": [
    "'now' in x"
   ]
  },
  {
   "cell_type": "code",
   "execution_count": 11,
   "id": "50878fb4-5d23-4bd7-b42d-b88f2a6d5861",
   "metadata": {
    "tags": []
   },
   "outputs": [
    {
     "data": {
      "text/plain": [
       "False"
      ]
     },
     "execution_count": 11,
     "metadata": {},
     "output_type": "execute_result"
    }
   ],
   "source": [
    "'here' in x"
   ]
  },
  {
   "cell_type": "code",
   "execution_count": 12,
   "id": "0ac24a22-0bfb-41e9-96b0-9e5b7207666c",
   "metadata": {
    "tags": []
   },
   "outputs": [
    {
     "data": {
      "text/plain": [
       "False"
      ]
     },
     "execution_count": 12,
     "metadata": {},
     "output_type": "execute_result"
    }
   ],
   "source": [
    "'cow' in x"
   ]
  },
  {
   "cell_type": "code",
   "execution_count": 13,
   "id": "16cbf10d-f903-4e24-8735-77c58010ba08",
   "metadata": {
    "tags": []
   },
   "outputs": [
    {
     "data": {
      "text/plain": [
       "True"
      ]
     },
     "execution_count": 13,
     "metadata": {},
     "output_type": "execute_result"
    }
   ],
   "source": [
    "'zahed' in x"
   ]
  },
  {
   "cell_type": "code",
   "execution_count": 14,
   "id": "8af06497-1c1b-4006-9dc8-7180fa2f7a9d",
   "metadata": {
    "tags": []
   },
   "outputs": [
    {
     "data": {
      "text/plain": [
       "'There is a cow where we had played earlier'"
      ]
     },
     "execution_count": 14,
     "metadata": {},
     "output_type": "execute_result"
    }
   ],
   "source": [
    "string"
   ]
  },
  {
   "cell_type": "code",
   "execution_count": 16,
   "id": "aa4f4926-bc34-4de4-a6d4-6acfc5634022",
   "metadata": {
    "tags": []
   },
   "outputs": [],
   "source": [
    "str = string.split()"
   ]
  },
  {
   "cell_type": "code",
   "execution_count": 17,
   "id": "ca4dc3c8-efd9-45c2-9b59-5af00224efba",
   "metadata": {
    "tags": []
   },
   "outputs": [
    {
     "data": {
      "text/plain": [
       "['There', 'is']"
      ]
     },
     "execution_count": 17,
     "metadata": {},
     "output_type": "execute_result"
    }
   ],
   "source": [
    "str[:2]"
   ]
  },
  {
   "cell_type": "code",
   "execution_count": 18,
   "id": "37e2c908-a4a0-4ee5-a60d-7ccf39a53620",
   "metadata": {
    "tags": []
   },
   "outputs": [
    {
     "data": {
      "text/plain": [
       "['a', 'cow', 'where', 'we', 'had', 'played', 'earlier']"
      ]
     },
     "execution_count": 18,
     "metadata": {},
     "output_type": "execute_result"
    }
   ],
   "source": [
    "str[2:]"
   ]
  },
  {
   "cell_type": "code",
   "execution_count": 19,
   "id": "00e25193-cd73-4a12-84ed-3fc8ce5de756",
   "metadata": {
    "tags": []
   },
   "outputs": [
    {
     "data": {
      "text/plain": [
       "['is', 'a']"
      ]
     },
     "execution_count": 19,
     "metadata": {},
     "output_type": "execute_result"
    }
   ],
   "source": [
    "str[1:3]"
   ]
  },
  {
   "cell_type": "code",
   "execution_count": 21,
   "id": "976c9300-a6ab-4add-b4b3-3f6057029edd",
   "metadata": {
    "tags": []
   },
   "outputs": [
    {
     "data": {
      "text/plain": [
       "True"
      ]
     },
     "execution_count": 21,
     "metadata": {},
     "output_type": "execute_result"
    }
   ],
   "source": [
    "'cow' in str"
   ]
  },
  {
   "cell_type": "code",
   "execution_count": 22,
   "id": "816dfbfe-53c0-407a-8508-af944a0bf16f",
   "metadata": {
    "tags": []
   },
   "outputs": [],
   "source": [
    "text = 'This is a lesson about list'"
   ]
  },
  {
   "cell_type": "code",
   "execution_count": 28,
   "id": "afdabe74-5d57-400f-bc33-ab5f83c37ea4",
   "metadata": {
    "tags": []
   },
   "outputs": [
    {
     "name": "stdout",
     "output_type": "stream",
     "text": [
      "['This', 'is', 'a', 'lesson', 'about', 'list']\n"
     ]
    }
   ],
   "source": [
    "words = text.split()\n",
    "print(words)"
   ]
  },
  {
   "cell_type": "code",
   "execution_count": 27,
   "id": "cecb189c-c86a-4450-bc31-4f482f4d9c5a",
   "metadata": {
    "tags": []
   },
   "outputs": [
    {
     "data": {
      "text/plain": [
       "'list'"
      ]
     },
     "execution_count": 27,
     "metadata": {},
     "output_type": "execute_result"
    }
   ],
   "source": [
    "words[5]"
   ]
  },
  {
   "cell_type": "code",
   "execution_count": 29,
   "id": "bc211e61-abf8-4095-9f43-421d3697c1eb",
   "metadata": {
    "tags": []
   },
   "outputs": [],
   "source": [
    "fruits = ['pineapple', 'Banana', 'Apple', 'Melon']"
   ]
  },
  {
   "cell_type": "code",
   "execution_count": 30,
   "id": "0a6291f9-12d7-4879-bb22-2c3ef92eeb17",
   "metadata": {
    "tags": []
   },
   "outputs": [
    {
     "name": "stdout",
     "output_type": "stream",
     "text": [
      "['pineapple', 'Banana', 'Apple', 'Melon', 'kiwi']\n"
     ]
    }
   ],
   "source": [
    "fruits.append('kiwi')\n",
    "print(fruits)"
   ]
  },
  {
   "cell_type": "code",
   "execution_count": 31,
   "id": "dae12587-5507-4c87-aa27-b443a417a04a",
   "metadata": {
    "tags": []
   },
   "outputs": [],
   "source": [
    "fruits.insert(0,'Apple')"
   ]
  },
  {
   "cell_type": "code",
   "execution_count": 32,
   "id": "63b8034d-700b-4dff-a255-702fbbc67501",
   "metadata": {
    "tags": []
   },
   "outputs": [
    {
     "name": "stdout",
     "output_type": "stream",
     "text": [
      "['Apple', 'pineapple', 'Banana', 'Apple', 'Melon', 'kiwi']\n"
     ]
    }
   ],
   "source": [
    "print(fruits)"
   ]
  },
  {
   "cell_type": "code",
   "execution_count": 33,
   "id": "15e33d77-4138-4963-bde4-28b37b131864",
   "metadata": {
    "tags": []
   },
   "outputs": [],
   "source": [
    "fruits.remove('Melon')"
   ]
  },
  {
   "cell_type": "code",
   "execution_count": 34,
   "id": "eeaa74c9-dcc2-4079-9b26-73b25ce1b76d",
   "metadata": {
    "tags": []
   },
   "outputs": [
    {
     "name": "stdout",
     "output_type": "stream",
     "text": [
      "['Apple', 'pineapple', 'Banana', 'Apple', 'kiwi']\n"
     ]
    }
   ],
   "source": [
    "print(fruits)"
   ]
  },
  {
   "cell_type": "code",
   "execution_count": 3,
   "id": "d7287cf2-e35c-48ee-ae22-1c9aece1bad5",
   "metadata": {},
   "outputs": [],
   "source": [
    "tuples = (2.2,3.4,5,['name','email','address'])"
   ]
  },
  {
   "cell_type": "code",
   "execution_count": 4,
   "id": "55741bc0-e075-485e-a12e-4627a5ce345d",
   "metadata": {
    "tags": []
   },
   "outputs": [
    {
     "data": {
      "text/plain": [
       "tuple"
      ]
     },
     "execution_count": 4,
     "metadata": {},
     "output_type": "execute_result"
    }
   ],
   "source": [
    "type(tuples)"
   ]
  },
  {
   "cell_type": "code",
   "execution_count": 5,
   "id": "4d7d12e2-7e6c-4506-9ba0-416e738ce597",
   "metadata": {
    "tags": []
   },
   "outputs": [
    {
     "name": "stdout",
     "output_type": "stream",
     "text": [
      "Total characters: 22, Average length: 5.5\n"
     ]
    }
   ],
   "source": [
    "animals = ['Lion', 'zebra', 'Dolphin', 'Monkey']\n",
    "char = 0\n",
    "for animal in animals:\n",
    "    char += len(animal)\n",
    "print('Total characters: {}, Average length: {}'.format(char, char/len(animals)))"
   ]
  },
  {
   "cell_type": "code",
   "execution_count": 17,
   "id": "6de62681-d85a-4ea5-b95f-866745952d8b",
   "metadata": {
    "tags": []
   },
   "outputs": [
    {
     "name": "stdout",
     "output_type": "stream",
     "text": [
      "1 - Zahed\n",
      "2 - masud\n",
      "3 - Rana\n"
     ]
    }
   ],
   "source": [
    "winners = ['Zahed', 'masud', 'Rana']\n",
    "for index,person in enumerate(winners):\n",
    "    print('{} - {}'.format(index + 1 , person))"
   ]
  },
  {
   "cell_type": "code",
   "execution_count": 1,
   "id": "77169018-f54e-4ede-a82f-ab78f9fa8abd",
   "metadata": {
    "tags": []
   },
   "outputs": [],
   "source": [
    "def full_emails(people):\n",
    "    results = []\n",
    "    for email,name in people:\n",
    "        results.append('{} <{}>'.format(name,email))\n",
    "    return results"
   ]
  },
  {
   "cell_type": "code",
   "execution_count": 2,
   "id": "8ae72d47-9cd5-43cd-99bf-60a4e521edca",
   "metadata": {
    "tags": []
   },
   "outputs": [
    {
     "data": {
      "text/plain": [
       "['zahed alam <zahed@example.com>', 'Masud Nazid <masud@gmail.com>']"
      ]
     },
     "execution_count": 2,
     "metadata": {},
     "output_type": "execute_result"
    }
   ],
   "source": [
    "full_emails([('zahed@example.com','zahed alam'),('masud@gmail.com','Masud Nazid')])"
   ]
  },
  {
   "cell_type": "code",
   "execution_count": null,
   "id": "1aab7806-0ed2-4ba7-99b1-2134ab6b0f85",
   "metadata": {},
   "outputs": [],
   "source": [
    "multiples = []\n",
    " "
   ]
  }
 ],
 "metadata": {
  "kernelspec": {
   "display_name": "Python 3 (ipykernel)",
   "language": "python",
   "name": "python3"
  },
  "language_info": {
   "codemirror_mode": {
    "name": "ipython",
    "version": 3
   },
   "file_extension": ".py",
   "mimetype": "text/x-python",
   "name": "python",
   "nbconvert_exporter": "python",
   "pygments_lexer": "ipython3",
   "version": "3.10.6"
  }
 },
 "nbformat": 4,
 "nbformat_minor": 5
}

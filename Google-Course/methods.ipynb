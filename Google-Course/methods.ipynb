{
 "cells": [
  {
   "cell_type": "code",
   "execution_count": 3,
   "id": "8e83b1a4-2edb-42f5-b255-48a568baca8e",
   "metadata": {
    "tags": []
   },
   "outputs": [
    {
     "data": {
      "text/plain": [
       "'Hello! I am Zahed from Bangladesh'"
      ]
     },
     "execution_count": 3,
     "metadata": {},
     "output_type": "execute_result"
    }
   ],
   "source": [
    "text = ' Hello! I am Zahed from Bangladesh '\n",
    "text.strip()"
   ]
  },
  {
   "cell_type": "code",
   "execution_count": 4,
   "id": "ece5f1a7-2abc-4b06-b049-e767ecd058cc",
   "metadata": {
    "tags": []
   },
   "outputs": [
    {
     "data": {
      "text/plain": [
       "' Hello! I am Zahed from Bangladesh'"
      ]
     },
     "execution_count": 4,
     "metadata": {},
     "output_type": "execute_result"
    }
   ],
   "source": [
    "text.rstrip()"
   ]
  },
  {
   "cell_type": "code",
   "execution_count": 5,
   "id": "225aab9b-e04c-41e2-a2f8-4dcaeb08678a",
   "metadata": {
    "tags": []
   },
   "outputs": [
    {
     "data": {
      "text/plain": [
       "'Hello! I am Zahed from Bangladesh '"
      ]
     },
     "execution_count": 5,
     "metadata": {},
     "output_type": "execute_result"
    }
   ],
   "source": [
    "text.lstrip()"
   ]
  },
  {
   "cell_type": "code",
   "execution_count": 6,
   "id": "1a13ce3d-9e09-472a-8cad-f08a38c9753b",
   "metadata": {
    "tags": []
   },
   "outputs": [
    {
     "data": {
      "text/plain": [
       "4"
      ]
     },
     "execution_count": 6,
     "metadata": {},
     "output_type": "execute_result"
    }
   ],
   "source": [
    "text.count('a')"
   ]
  },
  {
   "cell_type": "code",
   "execution_count": 8,
   "id": "d04ee562-6f43-4412-89e1-a246d95b112a",
   "metadata": {
    "tags": []
   },
   "outputs": [
    {
     "data": {
      "text/plain": [
       "1"
      ]
     },
     "execution_count": 8,
     "metadata": {},
     "output_type": "execute_result"
    }
   ],
   "source": [
    "text.count('Zahed')"
   ]
  },
  {
   "cell_type": "code",
   "execution_count": 10,
   "id": "c591a7f1-8f66-4b4a-a19b-0c0e3fe7d278",
   "metadata": {
    "tags": []
   },
   "outputs": [
    {
     "data": {
      "text/plain": [
       "True"
      ]
     },
     "execution_count": 10,
     "metadata": {},
     "output_type": "execute_result"
    }
   ],
   "source": [
    "'forest'.endswith('rest')"
   ]
  },
  {
   "cell_type": "code",
   "execution_count": 11,
   "id": "2a6c63a3-a46b-47bd-988e-d8f77165c9bf",
   "metadata": {
    "tags": []
   },
   "outputs": [
    {
     "data": {
      "text/plain": [
       "True"
      ]
     },
     "execution_count": 11,
     "metadata": {},
     "output_type": "execute_result"
    }
   ],
   "source": [
    "'reeena'.endswith('ena')"
   ]
  },
  {
   "cell_type": "code",
   "execution_count": 13,
   "id": "97db64da-42e9-494e-abcb-a6271780f0a3",
   "metadata": {
    "tags": []
   },
   "outputs": [
    {
     "data": {
      "text/plain": [
       "False"
      ]
     },
     "execution_count": 13,
     "metadata": {},
     "output_type": "execute_result"
    }
   ],
   "source": [
    "'forest'.isnumeric()"
   ]
  },
  {
   "cell_type": "code",
   "execution_count": 15,
   "id": "5f2954b8-d4c6-466b-9ccf-7d45af25cc19",
   "metadata": {
    "tags": []
   },
   "outputs": [
    {
     "data": {
      "text/plain": [
       "True"
      ]
     },
     "execution_count": 15,
     "metadata": {},
     "output_type": "execute_result"
    }
   ],
   "source": [
    "'123455'.isnumeric()"
   ]
  },
  {
   "cell_type": "code",
   "execution_count": 25,
   "id": "d3ce7bf6-582d-444f-91b6-8d62d95b8d01",
   "metadata": {
    "tags": []
   },
   "outputs": [
    {
     "data": {
      "text/plain": [
       "'from bangladesh'"
      ]
     },
     "execution_count": 25,
     "metadata": {},
     "output_type": "execute_result"
    }
   ],
   "source": [
    "' '.join(['from', 'bangladesh'])"
   ]
  },
  {
   "cell_type": "code",
   "execution_count": 49,
   "id": "580a6225-cbab-4e39-82c3-ac3615a80419",
   "metadata": {
    "tags": []
   },
   "outputs": [
    {
     "name": "stdout",
     "output_type": "stream",
     "text": [
      "Defaulting to user installation because normal site-packages is not writeable\n",
      "\u001b[31mERROR: Could not find a version that satisfies the requirement tkinter (from versions: none)\u001b[0m\u001b[31m\n",
      "\u001b[0m\u001b[31mERROR: No matching distribution found for tkinter\u001b[0m\u001b[31m\n",
      "\u001b[0m"
     ]
    }
   ],
   "source": [
    "!pip install tkinter"
   ]
  },
  {
   "cell_type": "code",
   "execution_count": null,
   "id": "ec3066a9-8ea0-458f-964f-88aff63d0c18",
   "metadata": {
    "tags": []
   },
   "outputs": [],
   "source": [
    "import tkinter as tk\n",
    "from tkinter import font\n",
    "\n",
    "# Set up the Bangla character mapping\n",
    "bangla_mapping = {\n",
    "    'a': 'আ', 'b': 'ব', 'c': 'ছ', 'd': 'দ', 'e': 'এ',\n",
    "    'f': 'ফ', 'g': 'গ', 'h': 'হ', 'i': 'ই', 'j': 'জ',\n",
    "    'k': 'ক', 'l': 'ল', 'm': 'ম', 'n': 'ন', 'o': 'ও',\n",
    "    'p': 'প', 'q': 'ক', 'r': 'র', 's': 'স', 't': 'ট',\n",
    "    'u': 'উ', 'v': 'ভ', 'w': 'ও', 'x': 'ক্স', 'y': 'য',\n",
    "    'z': 'য়',\n",
    "}\n",
    "\n",
    "class BanglaKeyboard:\n",
    "    def __init__(self, master):\n",
    "        self.master = master\n",
    "        master.title(\"Bangla Keyboard\")\n",
    "        master.geometry(\"400x300\")\n",
    "\n",
    "        # Create a text box to write Bangla\n",
    "        self.text_box = tk.Text(master, font=(\"SolaimanLipi\", 14), height=10)\n",
    "        self.text_box.pack()\n",
    "\n",
    "        # Create the buttons for the Bangla keyboard\n",
    "        self.create_buttons()\n",
    "\n",
    "    def create_buttons(self):\n",
    "        # Create a frame for the keyboard buttons\n",
    "        keyboard_frame = tk.Frame(self.master)\n",
    "        keyboard_frame.pack()\n",
    "\n",
    "        # Create buttons for each Bangla character\n",
    "        for key, value in bangla_mapping.items():\n",
    "            button = tk.Button(keyboard_frame, text=value, font=(\"SolaimanLipi\", 14), \n",
    "                               command=lambda char=value: self.add_char(char))\n",
    "            button.grid(row=ord(value)-243, column=ord(key)-96, padx=2, pady=2)\n",
    "\n",
    "    def add_char(self, char):\n",
    "        # Add the selected Bangla character to the text box\n",
    "        self.text_box.insert(tk.END, char)\n",
    "\n",
    "# Create a Tkinter window and start the Bangla keyboard\n",
    "root = tk.Tk()\n",
    "keyboard = BanglaKeyboard(root)\n",
    "root.mainloop()\n"
   ]
  },
  {
   "cell_type": "code",
   "execution_count": 37,
   "id": "8f181b80-1eb7-4dbc-8695-6f3ef471d22a",
   "metadata": {
    "tags": []
   },
   "outputs": [
    {
     "data": {
      "text/plain": [
       "['this', 'is', 'a', 'another', 'example']"
      ]
     },
     "execution_count": 37,
     "metadata": {},
     "output_type": "execute_result"
    }
   ],
   "source": [
    " \"this is a another example\".split()"
   ]
  },
  {
   "cell_type": "code",
   "execution_count": 44,
   "id": "cdd8e60e-fd2b-4f97-a37f-13f76e6e1ed9",
   "metadata": {
    "tags": []
   },
   "outputs": [
    {
     "name": "stdout",
     "output_type": "stream",
     "text": [
      "Hello Siam, Your lucky number is 12\n"
     ]
    }
   ],
   "source": [
    "name = \"Siam\"\n",
    "number = len(name) *3\n",
    "print('Hello {}, Your lucky number is {}'.format(name,number))"
   ]
  },
  {
   "cell_type": "code",
   "execution_count": 47,
   "id": "9023bc07-87a1-4aa7-bba3-bd78ed0edf4c",
   "metadata": {
    "tags": []
   },
   "outputs": [
    {
     "name": "stdout",
     "output_type": "stream",
     "text": [
      "The result is 109\n"
     ]
    }
   ],
   "source": [
    "a = 55\n",
    "b = 54\n",
    "add = a+b\n",
    "print('The result is {}'.format(add))"
   ]
  },
  {
   "cell_type": "code",
   "execution_count": 48,
   "id": "ab29ca66-276c-40b8-8a1f-c65b168fd001",
   "metadata": {
    "tags": []
   },
   "outputs": [
    {
     "name": "stdout",
     "output_type": "stream",
     "text": [
      "The base price: $7.50 and with tax is $8.18\n"
     ]
    }
   ],
   "source": [
    "price = 7.5\n",
    "price_with_tax = price * 1.09\n",
    "print('The base price: ${:.2f} and with tax is ${:.2f}'.format(price, price_with_tax))"
   ]
  },
  {
   "cell_type": "markdown",
   "id": "5efc6c94-1716-4fd6-903e-560a31677f69",
   "metadata": {},
   "source": [
    "# Celsius to fahrenheit"
   ]
  },
  {
   "cell_type": "code",
   "execution_count": 51,
   "id": "3dc679c2-d571-406d-8b37-1e6b6bd210c6",
   "metadata": {
    "tags": []
   },
   "outputs": [
    {
     "name": "stdout",
     "output_type": "stream",
     "text": [
      "  0 F | -17.78 C\n",
      " 10 F | -12.22 C\n",
      " 20 F | -6.67 C\n",
      " 30 F | -1.11 C\n",
      " 40 F |  4.44 C\n",
      " 50 F | 10.00 C\n",
      " 60 F | 15.56 C\n",
      " 70 F | 21.11 C\n",
      " 80 F | 26.67 C\n",
      " 90 F | 32.22 C\n",
      "100 F | 37.78 C\n"
     ]
    }
   ],
   "source": [
    "def to_celsius(x):\n",
    "    return (x-32)*5/9\n",
    "\n",
    "for x in range(0,101,10):\n",
    "    print('{:>3} F | {:>5.2f} C'.format(x,to_celsius(x)))"
   ]
  },
  {
   "cell_type": "code",
   "execution_count": 53,
   "id": "bd1e78cf-9d94-4e36-9800-2e8cfce06a00",
   "metadata": {
    "tags": []
   },
   "outputs": [
    {
     "data": {
      "text/plain": [
       "True"
      ]
     },
     "execution_count": 53,
     "metadata": {},
     "output_type": "execute_result"
    }
   ],
   "source": [
    "'jahed'.isalpha()"
   ]
  },
  {
   "cell_type": "code",
   "execution_count": 79,
   "id": "5475164a-f445-46ee-8941-117f69a1d6c6",
   "metadata": {
    "tags": []
   },
   "outputs": [
    {
     "name": "stdout",
     "output_type": "stream",
     "text": [
      "I am namira and i am from bangladesh\n"
     ]
    }
   ],
   "source": [
    "str = 'I am namira and i am from bangladesh'\n",
    "new = str.replace('str','There is a cow')\n",
    "print(new)"
   ]
  },
  {
   "cell_type": "code",
   "execution_count": 68,
   "id": "521501ec-d14d-4e57-80f4-de60ef19abd2",
   "metadata": {
    "tags": []
   },
   "outputs": [],
   "source": [
    "def is_palindrome(input_string):\n",
    "    new_string = ''\n",
    "    rev_string = ''\n",
    "    for string in input_string:\n",
    "        if string != ' ':\n",
    "            new_string = new_string + string.lower()\n",
    "            rev_string = string.lower() + rev_string.lower()\n",
    "    if new_string == rev_string:\n",
    "        return True\n",
    "    return False"
   ]
  },
  {
   "cell_type": "code",
   "execution_count": 78,
   "id": "b9305f24-cdd3-46af-8ebf-a66ead603648",
   "metadata": {
    "tags": []
   },
   "outputs": [
    {
     "data": {
      "text/plain": [
       "True"
      ]
     },
     "execution_count": 78,
     "metadata": {},
     "output_type": "execute_result"
    }
   ],
   "source": [
    "is_palindrome('aba')"
   ]
  },
  {
   "cell_type": "code",
   "execution_count": 2,
   "id": "7c4c0a67-5463-432c-a23b-544545561e7c",
   "metadata": {},
   "outputs": [
    {
     "data": {
      "text/plain": [
       "'fall'"
      ]
     },
     "execution_count": 2,
     "metadata": {},
     "output_type": "execute_result"
    }
   ],
   "source": [
    "str = 'rainfall'\n",
    "str[4:]"
   ]
  },
  {
   "cell_type": "markdown",
   "id": "94f94bc8-5b8c-41ec-8339-d20cb7e4e52d",
   "metadata": {},
   "source": [
    "# check palindrome or not"
   ]
  },
  {
   "cell_type": "code",
   "execution_count": 5,
   "id": "abd9f928-24f6-4eeb-8716-ca9bc68c8c03",
   "metadata": {
    "tags": []
   },
   "outputs": [],
   "source": [
    "def is_palindrome(input_string):\n",
    "    new_string = ''\n",
    "    reverse_string = ''\n",
    "    for string in input_string:\n",
    "        # print(string)\n",
    "        if string != ' ':\n",
    "            new_string += string.lower()\n",
    "            reverse_string = string.lower() + reverse_string\n",
    "    if new_string == reverse_string:\n",
    "        return True\n",
    "    return False"
   ]
  },
  {
   "cell_type": "code",
   "execution_count": 9,
   "id": "8a282729-0bf7-4450-a75f-48cb8a0b300c",
   "metadata": {
    "tags": []
   },
   "outputs": [
    {
     "data": {
      "text/plain": [
       "True"
      ]
     },
     "execution_count": 9,
     "metadata": {},
     "output_type": "execute_result"
    }
   ],
   "source": [
    "is_palindrome('never odd or even')"
   ]
  },
  {
   "cell_type": "code",
   "execution_count": 10,
   "id": "383581f6-199f-47ff-b6be-4a8082d81645",
   "metadata": {
    "tags": []
   },
   "outputs": [
    {
     "data": {
      "text/plain": [
       "False"
      ]
     },
     "execution_count": 10,
     "metadata": {},
     "output_type": "execute_result"
    }
   ],
   "source": [
    "is_palindrome('abc')"
   ]
  },
  {
   "cell_type": "code",
   "execution_count": 11,
   "id": "7009b438-d71b-4371-8fea-8831a357cce4",
   "metadata": {
    "tags": []
   },
   "outputs": [
    {
     "data": {
      "text/plain": [
       "True"
      ]
     },
     "execution_count": 11,
     "metadata": {},
     "output_type": "execute_result"
    }
   ],
   "source": [
    "is_palindrome('kayak')"
   ]
  },
  {
   "cell_type": "code",
   "execution_count": null,
   "id": "cb765738-4357-416b-9872-9492903ed3bf",
   "metadata": {},
   "outputs": [],
   "source": []
  }
 ],
 "metadata": {
  "kernelspec": {
   "display_name": "Python 3 (ipykernel)",
   "language": "python",
   "name": "python3"
  },
  "language_info": {
   "codemirror_mode": {
    "name": "ipython",
    "version": 3
   },
   "file_extension": ".py",
   "mimetype": "text/x-python",
   "name": "python",
   "nbconvert_exporter": "python",
   "pygments_lexer": "ipython3",
   "version": "3.10.6"
  }
 },
 "nbformat": 4,
 "nbformat_minor": 5
}

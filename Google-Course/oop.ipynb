{
 "cells": [
  {
   "cell_type": "code",
   "execution_count": 4,
   "id": "43566ff0-9988-4295-a193-fe5354040a44",
   "metadata": {
    "tags": []
   },
   "outputs": [
    {
     "name": "stdout",
     "output_type": "stream",
     "text": [
      "Quack, I am Pucky! Quack\n",
      "Hello, I am Montu\n"
     ]
    }
   ],
   "source": [
    "class Duck:\n",
    "    name = \"Ducky\"\n",
    "    def speak(self):\n",
    "        print('Quack, I am {}! Quack'.format(self.name))\n",
    "        \n",
    "pucky = Duck()\n",
    "pucky.name = \"Pucky\"\n",
    "pucky.speak()\n",
    "\n",
    "class Dog:\n",
    "    name = \"\"\n",
    "    def speak(self):\n",
    "        print('Hello, I am {}'.format(self.name))\n",
    "        \n",
    "montu = Dog()\n",
    "montu.name = \"Montu\"\n",
    "montu.speak()"
   ]
  },
  {
   "cell_type": "code",
   "execution_count": 6,
   "id": "68c255ac-3cd4-4041-8aab-ca0630f78c1d",
   "metadata": {
    "tags": []
   },
   "outputs": [
    {
     "name": "stdout",
     "output_type": "stream",
     "text": [
      "21\n"
     ]
    }
   ],
   "source": [
    "class Dog:\n",
    "    years = 0\n",
    "    def dog_years(self):\n",
    "        return self.years * 7\n",
    "fido=Dog()\n",
    "fido.years=3\n",
    "print(fido.dog_years())"
   ]
  },
  {
   "cell_type": "code",
   "execution_count": 9,
   "id": "47b957ec-17d8-4fe8-93e7-1aabf7f5ccc3",
   "metadata": {
    "tags": []
   },
   "outputs": [
    {
     "name": "stdout",
     "output_type": "stream",
     "text": [
      "red\n"
     ]
    }
   ],
   "source": [
    "class Apple:\n",
    "    def __init__(self,color,flavor):\n",
    "        self.color = color\n",
    "        self.flavor = flavor\n",
    "\n",
    "jonagold = Apple('red','sweet')\n",
    "print(jonagold.color)"
   ]
  },
  {
   "cell_type": "code",
   "execution_count": 28,
   "id": "86ced976-e5a5-4a92-84af-7e6f74f756a1",
   "metadata": {
    "tags": []
   },
   "outputs": [
    {
     "name": "stdout",
     "output_type": "stream",
     "text": [
      "I am Alice from another planet and my age is 20\n"
     ]
    }
   ],
   "source": [
    "class Person:\n",
    "    def __init__(self, name ,age):\n",
    "        self.name = name\n",
    "        self.age = age\n",
    "        \n",
    "    # def greeting(self):\n",
    "    #     return f'hi, I am {self.name} from another planet'\n",
    "    # def age(self):\n",
    "    #     return self.age\n",
    "    def __str__(self):\n",
    "        return \"I am {} from another planet and my age is {}\".format(self.name,self.age)\n",
    "    \n",
    "someone = Person('Alice','20')\n",
    "print(someone)"
   ]
  },
  {
   "cell_type": "code",
   "execution_count": 29,
   "id": "b0b00980-3005-4fae-89be-f6434f8afe55",
   "metadata": {
    "tags": []
   },
   "outputs": [
    {
     "name": "stdout",
     "output_type": "stream",
     "text": [
      "Help on class Person in module __main__:\n",
      "\n",
      "class Person(builtins.object)\n",
      " |  Person(name, age)\n",
      " |  \n",
      " |  Methods defined here:\n",
      " |  \n",
      " |  __init__(self, name, age)\n",
      " |      Initialize self.  See help(type(self)) for accurate signature.\n",
      " |  \n",
      " |  __str__(self)\n",
      " |      Return str(self).\n",
      " |  \n",
      " |  ----------------------------------------------------------------------\n",
      " |  Data descriptors defined here:\n",
      " |  \n",
      " |  __dict__\n",
      " |      dictionary for instance variables (if defined)\n",
      " |  \n",
      " |  __weakref__\n",
      " |      list of weak references to the object (if defined)\n",
      "\n"
     ]
    }
   ],
   "source": [
    "help(Person)"
   ]
  },
  {
   "cell_type": "code",
   "execution_count": 33,
   "id": "cde1d0a9-0bd7-41a7-a76e-a100728c68cf",
   "metadata": {
    "tags": []
   },
   "outputs": [
    {
     "name": "stdout",
     "output_type": "stream",
     "text": [
      "Green sweet\n"
     ]
    }
   ],
   "source": [
    "class Fruit():\n",
    "    def __init__(self,color,taste):\n",
    "        self.color = color\n",
    "        self.taste = taste\n",
    "        \n",
    "class Apple(Fruit):\n",
    "        pass\n",
    "\n",
    "new = Apple('Green','sweet')\n",
    "print(new.color,new.taste)"
   ]
  },
  {
   "cell_type": "code",
   "execution_count": 38,
   "id": "6972f3ad-bd3c-44ac-a95c-b11f6f4a29df",
   "metadata": {
    "tags": []
   },
   "outputs": [
    {
     "data": {
      "text/plain": [
       "'Hello, I am Milky white ! Mooooo'"
      ]
     },
     "execution_count": 38,
     "metadata": {},
     "output_type": "execute_result"
    }
   ],
   "source": [
    "class Animal:\n",
    "    sound = \"\"\n",
    "    def __init__(self,name):\n",
    "        self.name = name\n",
    "    def speak(self):\n",
    "        return \"Hello, I am {} ! {}\".format(self.name,self.sound)\n",
    "\n",
    "class Cow(Animal):\n",
    "    sound = 'Mooooo'\n",
    "milky = Cow('Milky white')\n",
    "milky.speak()"
   ]
  },
  {
   "cell_type": "code",
   "execution_count": 45,
   "id": "aafde957-8b03-4dde-a92c-b93021dd3583",
   "metadata": {
    "tags": []
   },
   "outputs": [
    {
     "data": {
      "text/plain": [
       "'Name: Zahed Alam, Mobile: 01846899956 , Father: Abdur Razzak, Mother: Jahanara Begum , Address: '"
      ]
     },
     "execution_count": 45,
     "metadata": {},
     "output_type": "execute_result"
    }
   ],
   "source": [
    "class BioData:\n",
    "    address = \"\"\n",
    "    def __init__(self,name,mob,father,mother):\n",
    "        self.name = name\n",
    "        self.mob = mob\n",
    "        self.father = father\n",
    "        self.mother = mother\n",
    "    def bio(self):\n",
    "        return \"Name: {}, Mobile: {} , Father: {}, Mother: {} , Address: {}\".format(self.name,self.mob,self.father,self.mother,self.address)\n",
    "\n",
    "\n",
    "# class Address(BioData):\n",
    "#     address = 'Charsaha Bhikari'\n",
    "\n",
    "Zahed = BioData('Zahed Alam','01846899956','Abdur Razzak','Jahanara Begum')\n",
    "Zahed.bio()"
   ]
  },
  {
   "cell_type": "markdown",
   "id": "a51a76e1-f596-4b14-bdf2-596289243f33",
   "metadata": {},
   "source": [
    "# Let’s expand a bit on our Clothing classes from the previous in-video question. Your mission: Finish the \"Stock_by_Material\" method and iterate over the amount of each item of a given material that is in stock. When you’re finished, the script should add up to 10 cotton Polo shirts."
   ]
  },
  {
   "cell_type": "code",
   "execution_count": 46,
   "id": "adc4d160-bf65-42af-9f0c-0dfe03751fc9",
   "metadata": {
    "tags": []
   },
   "outputs": [
    {
     "name": "stdout",
     "output_type": "stream",
     "text": [
      "10\n"
     ]
    }
   ],
   "source": [
    "class Clothing:\n",
    "  stock={ 'name': [],'material' :[], 'amount':[]}\n",
    "  def __init__(self,name):\n",
    "    material = \"\"\n",
    "    self.name = name\n",
    "    \n",
    "  def add_item(self, name, material, amount):\n",
    "    Clothing.stock['name'].append(self.name)\n",
    "    Clothing.stock['material'].append(self.material)\n",
    "    Clothing.stock['amount'].append(amount)\n",
    "    \n",
    "  def Stock_by_Material(self, material):\n",
    "    count=0\n",
    "    n=0\n",
    "    for item in Clothing.stock['material']:\n",
    "      if item == material:\n",
    "        count += Clothing.stock['amount'][n]\n",
    "        n+=1\n",
    "    return count\n",
    "\n",
    "class shirt(Clothing):\n",
    "  material=\"Cotton\"\n",
    "class pants(Clothing):\n",
    "  material=\"Cotton\"\n",
    "  \n",
    "polo = shirt(\"Polo\") \n",
    "sweatpants = pants(\"Sweatpants\")\n",
    "\n",
    "polo.add_item(polo.name, polo.material, 4)\n",
    "sweatpants.add_item(sweatpants.name, sweatpants.material, 6)\n",
    "\n",
    "current_stock = polo.Stock_by_Material(\"Cotton\")\n",
    "print(current_stock)"
   ]
  },
  {
   "cell_type": "markdown",
   "id": "cacba831-188a-4426-b03f-535f5f05fb4f",
   "metadata": {},
   "source": [
    "# Create Personal View"
   ]
  },
  {
   "cell_type": "code",
   "execution_count": 73,
   "id": "94606d3f-cce5-4db2-ae23-1d07d97f0a52",
   "metadata": {
    "tags": []
   },
   "outputs": [
    {
     "name": "stdout",
     "output_type": "stream",
     "text": [
      "Name: Zahed Alam\n",
      "Experience Period: 7\n",
      "\n",
      "Address: \n",
      "233munich\n",
      "germany\n",
      "germany/munich\n",
      "\n",
      "Programming Language Used: \n",
      "- PHP\n",
      "- Python\n",
      "- Laravel\n",
      "\n",
      "-------------------------------------------\n",
      "\n"
     ]
    }
   ],
   "source": [
    "class Personal:\n",
    "    def __init__(self,name,programming_language,experience):\n",
    "        self.name = name\n",
    "        self.programming_language = programming_language\n",
    "        self.experience = experience\n",
    "        self.address=None\n",
    "        \n",
    "    def view(self):\n",
    "        print(f'Name: {self.name}')\n",
    "        print(f'Experience Period: {self.experience}')\n",
    "        print()\n",
    "        \n",
    "        if self.address:\n",
    "            print(\"Address: \")\n",
    "            print(self.address)\n",
    "        \n",
    "        print()\n",
    "        \n",
    "        print('Programming Language Used: ')\n",
    "        data_type = type(self.programming_language)\n",
    "        \n",
    "        if data_type == str:\n",
    "            print('-',self.programming_language)\n",
    "        elif data_type == tuple or list:\n",
    "            for language in self.programming_language:\n",
    "                print('-',language)\n",
    "        else:\n",
    "            print('Error!')\n",
    "        \n",
    "        print(\"\")\n",
    "        print('-------------------------------------------')\n",
    "        print(\"\")\n",
    "        \n",
    "class Address:\n",
    "    def __init__(self,ad,district,city,land):\n",
    "        self.ad = ad\n",
    "        self.district = district\n",
    "        self.city = city\n",
    "        self.land = land\n",
    "        \n",
    "    def __str__(self):\n",
    "        details = [self.ad]\n",
    "        \n",
    "        if self.land:\n",
    "            details.append(self.land)\n",
    "            details.append(f\"{self.land}/{self.city}\")\n",
    "        return '\\n'.join(details)\n",
    "    \n",
    "        \n",
    "        \n",
    "        \n",
    "personal1 = Personal('Zahed Alam', ('PHP', 'Python', 'Laravel'),7)\n",
    "personal1.address = Address('233munich','max','munich','germany')\n",
    "personal1.view()"
   ]
  },
  {
   "cell_type": "code",
   "execution_count": 66,
   "id": "edfbb07a-932d-49c3-97d8-8fce8219204e",
   "metadata": {
    "tags": []
   },
   "outputs": [
    {
     "name": "stdout",
     "output_type": "stream",
     "text": [
      "Personal Name & Surname: Markus Faber\n",
      "Experience period: 18 year\n",
      "\n",
      "Address: \n",
      "Brienner St. 0123\n",
      "GERMANY\n",
      "Maxvorstadt/Munich\n",
      "\n",
      "Programming Languages Used: \n",
      "  -  Python\n",
      "  -  PHP\n",
      "  -  Javascript\n",
      "  -  Java\n",
      "\n",
      "-------------------------\n",
      "\n",
      "Personal Name & Surname: Arim Khandakar\n",
      "Experience period: 6 year\n",
      "\n",
      "Address: \n",
      "Rd No 456\n",
      "BANGLADESH\n",
      "Kalachandpur/DHAKA\n",
      "\n",
      "Programming Languages Used: \n",
      "  -  NodeJS\n",
      "  -  ReactJS\n",
      "\n",
      "-------------------------\n",
      "\n",
      "Personal Name & Surname: Julia Gage\n",
      "Experience period: 4 year\n",
      "\n",
      "\n",
      "Programming Languages Used: \n",
      "  -  Javascript\n",
      "  -  CSS\n",
      "\n",
      "-------------------------\n",
      "\n"
     ]
    }
   ],
   "source": [
    "class Personal:\n",
    "    def __init__(self,name,surname, programming_language, experience):\n",
    "        self.name=name\n",
    "        self.surname=surname\n",
    "        self.programming_language=programming_language\n",
    "        self.experience=experience\n",
    "        self.address=None\n",
    "    \n",
    "    def View(self):\n",
    "        print(f\"Personal Name & Surname: {self.name} {self.surname}\")\n",
    "        print(f\"Experience period: {self.experience} year\")\n",
    "        print()\n",
    "        \n",
    "        if self.address:\n",
    "            print(\"Address: \")\n",
    "            print(self.address)\n",
    "        print()\n",
    "        \n",
    "        print(\"Programming Languages Used: \")\n",
    "        data_type=type(self.programming_language)\n",
    "        \n",
    "        if data_type is str:\n",
    "            print(\"  - \", self.programming_language)\n",
    "        elif data_type is tuple or list:\n",
    "            for language in self.programming_language:\n",
    "                print(\"  - \", language)\n",
    "        else:\n",
    "            print(\"Error!\")\n",
    "            \n",
    "        print(\"\")\n",
    "        print(\"-------------------------\")\n",
    "        print(\"\")\n",
    "        \n",
    "class Address:\n",
    "    def __init__(self, ad, district,city,land):\n",
    "        self.ad=ad\n",
    "        self.district=district\n",
    "        self.city=city\n",
    "        self.land=land   \n",
    "        \n",
    "    def __str__(self):\n",
    "        details=[self.ad]\n",
    "        \n",
    "        if self.land:\n",
    "            details.append(self.land)\n",
    "            details.append(f\"{self.district}/{self.city}\")\n",
    "        return '\\n'.join(details)\n",
    "    \n",
    "personal1 = Personal(\"Markus\",\"Faber\",(\"Python\",\"PHP\",\"Javascript\",\"Java\"), 18)\n",
    "personal1.address=Address('Brienner St. 0123', 'Maxvorstadt','Munich',\"GERMANY\")\n",
    "personal2 = Personal(\"Arim\",\"Khandakar\",(\"NodeJS\",\"ReactJS\"), 6)\n",
    "personal2.address =Address('Rd No 456','Kalachandpur','DHAKA',\"BANGLADESH\")\n",
    "personal3 = Personal(\"Julia\",\"Gage\",(\"Javascript\",\"CSS\"), 4)\n",
    "\n",
    "personal1.View()\n",
    "personal2.View()\n",
    "personal3.View()"
   ]
  },
  {
   "cell_type": "code",
   "execution_count": null,
   "id": "8aa5c63f-5a57-4ee1-8eb9-611e9dcc307c",
   "metadata": {},
   "outputs": [],
   "source": []
  }
 ],
 "metadata": {
  "kernelspec": {
   "display_name": "Python 3 (ipykernel)",
   "language": "python",
   "name": "python3"
  },
  "language_info": {
   "codemirror_mode": {
    "name": "ipython",
    "version": 3
   },
   "file_extension": ".py",
   "mimetype": "text/x-python",
   "name": "python",
   "nbconvert_exporter": "python",
   "pygments_lexer": "ipython3",
   "version": "3.10.6"
  }
 },
 "nbformat": 4,
 "nbformat_minor": 5
}

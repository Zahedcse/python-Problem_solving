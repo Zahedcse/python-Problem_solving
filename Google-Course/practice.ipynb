{
 "cells": [
  {
   "cell_type": "code",
   "execution_count": 1,
   "id": "f54e1158-b6e9-4c20-8e8e-9de31ea4def8",
   "metadata": {
    "tags": []
   },
   "outputs": [
    {
     "data": {
      "text/plain": [
       "False"
      ]
     },
     "execution_count": 1,
     "metadata": {},
     "output_type": "execute_result"
    }
   ],
   "source": [
    "mog = ['Jahed', 'Namira', 'Rana']\n",
    "rog = ['Rana', 'Namira', 'Jahed']\n",
    "\n",
    "mog == rog"
   ]
  },
  {
   "cell_type": "code",
   "execution_count": 6,
   "id": "862923c4-6eac-4642-b0e7-ae065d7d726a",
   "metadata": {
    "tags": []
   },
   "outputs": [
    {
     "data": {
      "text/plain": [
       "True"
      ]
     },
     "execution_count": 6,
     "metadata": {},
     "output_type": "execute_result"
    }
   ],
   "source": [
    "new = {'name' : 'Rana', 'clas': '9'}\n",
    "new2 = {'clas': '9', 'name' : 'Rana'}\n",
    "\n",
    "new == new2"
   ]
  },
  {
   "cell_type": "code",
   "execution_count": 16,
   "id": "78f553d0-7be5-47ed-84b9-f356a9bbe691",
   "metadata": {
    "tags": []
   },
   "outputs": [
    {
     "name": "stdout",
     "output_type": "stream",
     "text": [
      "Enter a Name: (Blank to quit)\n"
     ]
    },
    {
     "name": "stdin",
     "output_type": "stream",
     "text": [
      " Namira\n"
     ]
    },
    {
     "name": "stdout",
     "output_type": "stream",
     "text": [
      "1 july is the birthday of Namira\n",
      "Enter a Name: (Blank to quit)\n"
     ]
    },
    {
     "name": "stdin",
     "output_type": "stream",
     "text": [
      " namira\n"
     ]
    },
    {
     "name": "stdout",
     "output_type": "stream",
     "text": [
      "I do not have Birthday infomation of namira\n",
      "What is their Birthday?\n"
     ]
    },
    {
     "name": "stdin",
     "output_type": "stream",
     "text": [
      " 1 july\n"
     ]
    },
    {
     "name": "stdout",
     "output_type": "stream",
     "text": [
      "Birthday Database Updated\n",
      "Enter a Name: (Blank to quit)\n"
     ]
    },
    {
     "name": "stdin",
     "output_type": "stream",
     "text": [
      " namira\n"
     ]
    },
    {
     "name": "stdout",
     "output_type": "stream",
     "text": [
      "1 july is the birthday of namira\n",
      "Enter a Name: (Blank to quit)\n"
     ]
    },
    {
     "name": "stdin",
     "output_type": "stream",
     "text": [
      " \n"
     ]
    }
   ],
   "source": [
    "birthdays = {'Alice' : 'Apr1', 'Rana' : '16 july', 'Namira': '1 july'}\n",
    "\n",
    "while True:\n",
    "    print ('Enter a Name: (Blank to quit)')\n",
    "    name = input()\n",
    "    if name == '':\n",
    "        break\n",
    "    if name in birthdays:\n",
    "        print(birthdays[name] + ' is the birthday of '+ name)\n",
    "    else:\n",
    "        print('I do not have Birthday infomation of '+ name)\n",
    "        print('What is their Birthday?')\n",
    "        bday = input()\n",
    "        birthdays[name] = bday\n",
    "        print('Birthday Database Updated')"
   ]
  },
  {
   "cell_type": "code",
   "execution_count": 24,
   "id": "69f3ff44-4731-451e-a5bf-983348baf8e5",
   "metadata": {
    "tags": []
   },
   "outputs": [
    {
     "name": "stdout",
     "output_type": "stream",
     "text": [
      "Enter a Author Name: (blank to quit)\n"
     ]
    },
    {
     "name": "stdin",
     "output_type": "stream",
     "text": [
      " masud\n"
     ]
    },
    {
     "name": "stdout",
     "output_type": "stream",
     "text": [
      "The books name not in the Database\n",
      "What is the book name of masud\n"
     ]
    },
    {
     "name": "stdin",
     "output_type": "stream",
     "text": [
      " mali\n"
     ]
    },
    {
     "name": "stdout",
     "output_type": "stream",
     "text": [
      "Database Updated\n",
      "Enter a Author Name: (blank to quit)\n"
     ]
    },
    {
     "name": "stdin",
     "output_type": "stream",
     "text": [
      " masud\n"
     ]
    },
    {
     "name": "stdout",
     "output_type": "stream",
     "text": [
      "mali is written by masud\n",
      "Enter a Author Name: (blank to quit)\n"
     ]
    },
    {
     "name": "stdin",
     "output_type": "stream",
     "text": [
      " manik\n"
     ]
    },
    {
     "name": "stdout",
     "output_type": "stream",
     "text": [
      "The books name not in the Database\n",
      "What is the book name of manik\n"
     ]
    },
    {
     "name": "stdin",
     "output_type": "stream",
     "text": [
      " gali\n"
     ]
    },
    {
     "name": "stdout",
     "output_type": "stream",
     "text": [
      "Database Updated\n",
      "Enter a Author Name: (blank to quit)\n"
     ]
    },
    {
     "name": "stdin",
     "output_type": "stream",
     "text": [
      " manik\n"
     ]
    },
    {
     "name": "stdout",
     "output_type": "stream",
     "text": [
      "gali is written by manik\n",
      "Enter a Author Name: (blank to quit)\n"
     ]
    },
    {
     "name": "stdin",
     "output_type": "stream",
     "text": [
      " \n"
     ]
    }
   ],
   "source": [
    "books = {'zahed':'bali,coli', 'siam':'rali', 'namira': 'rali,flower_blossom,python script'}\n",
    "\n",
    "while True:\n",
    "    print('Enter a Author Name: (blank to quit)')\n",
    "    name = input()\n",
    "    if name == \"\":\n",
    "        break\n",
    "    if name in books:\n",
    "        print(books[name]+ ' is written by '+ name)\n",
    "    else:\n",
    "        print('The books name not in the Database')\n",
    "        print('What is the book name of ' + name)\n",
    "        book = input()\n",
    "        books[name] = book\n",
    "        print('Database Updated')"
   ]
  },
  {
   "cell_type": "code",
   "execution_count": null,
   "id": "2877dc49-f222-41b4-8d1f-cb01f2da192c",
   "metadata": {},
   "outputs": [],
   "source": []
  }
 ],
 "metadata": {
  "kernelspec": {
   "display_name": "Python 3 (ipykernel)",
   "language": "python",
   "name": "python3"
  },
  "language_info": {
   "codemirror_mode": {
    "name": "ipython",
    "version": 3
   },
   "file_extension": ".py",
   "mimetype": "text/x-python",
   "name": "python",
   "nbconvert_exporter": "python",
   "pygments_lexer": "ipython3",
   "version": "3.10.6"
  }
 },
 "nbformat": 4,
 "nbformat_minor": 5
}

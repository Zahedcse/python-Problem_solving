{
 "cells": [
  {
   "cell_type": "code",
   "execution_count": 1,
   "id": "bf3f5a69-f424-4468-acc7-ca7b2736b1d5",
   "metadata": {},
   "outputs": [],
   "source": [
    "def replace_email(email,old_domain,new_domain):\n",
    "    if \"@\" + old_domain in email:\n",
    "        index = email.index('@'+old_domain)\n",
    "        new_email = email[:index] + '@' + new_domain\n",
    "        return new_email\n",
    "    return email"
   ]
  },
  {
   "cell_type": "code",
   "execution_count": 7,
   "id": "4ede6b85-c1c4-4ae6-be85-75e4d63c9af4",
   "metadata": {},
   "outputs": [
    {
     "data": {
      "text/plain": [
       "'zahedalam1001@mail.com'"
      ]
     },
     "execution_count": 7,
     "metadata": {},
     "output_type": "execute_result"
    }
   ],
   "source": [
    "replace_email('zahedalam1001@gmail.com', 'gmail.com','mail.com')"
   ]
  },
  {
   "cell_type": "code",
   "execution_count": 24,
   "id": "3ce0405a-fb2b-4253-8f5f-31c8983d37b2",
   "metadata": {
    "tags": []
   },
   "outputs": [],
   "source": [
    "def replace_email(email,old_domain,new_domain):\n",
    "    if \"@\" + old_domain in email:\n",
    "        index = email.index('@' + old_domain)\n",
    "        # print(index)\n",
    "        new_email = email[:index] + \"@\" + new_domain\n",
    "        return new_email\n",
    "    return email"
   ]
  },
  {
   "cell_type": "code",
   "execution_count": 25,
   "id": "45f473db-a43e-4f4c-a461-a8ab72e82ddd",
   "metadata": {
    "tags": []
   },
   "outputs": [
    {
     "data": {
      "text/plain": [
       "'zahedalam1001@mail.com'"
      ]
     },
     "execution_count": 25,
     "metadata": {},
     "output_type": "execute_result"
    }
   ],
   "source": [
    "replace_email('zahedalam1001@gmail.com', 'gmail.com','mail.com')"
   ]
  },
  {
   "cell_type": "code",
   "execution_count": 5,
   "id": "6240269c-3e45-4d62-8463-ec249d1b6201",
   "metadata": {
    "tags": []
   },
   "outputs": [
    {
     "name": "stdout",
     "output_type": "stream",
     "text": [
      "Hello I am Jahed\n"
     ]
    }
   ],
   "source": [
    "str = 'Hello! I am Zahed Alam from Bangladesh'\n",
    "index = str.index('!')\n",
    "new_str = str[:index] + \" I am Jahed\"\n",
    "print(new_str)"
   ]
  },
  {
   "cell_type": "code",
   "execution_count": null,
   "id": "5ddfb066-e7a1-486a-8897-2afca4b0be46",
   "metadata": {},
   "outputs": [],
   "source": []
  },
  {
   "cell_type": "code",
   "execution_count": null,
   "id": "5bfe4f1d-d139-40d1-9621-b553c6282265",
   "metadata": {},
   "outputs": [],
   "source": []
  }
 ],
 "metadata": {
  "kernelspec": {
   "display_name": "Python 3 (ipykernel)",
   "language": "python",
   "name": "python3"
  },
  "language_info": {
   "codemirror_mode": {
    "name": "ipython",
    "version": 3
   },
   "file_extension": ".py",
   "mimetype": "text/x-python",
   "name": "python",
   "nbconvert_exporter": "python",
   "pygments_lexer": "ipython3",
   "version": "3.10.6"
  }
 },
 "nbformat": 4,
 "nbformat_minor": 5
}

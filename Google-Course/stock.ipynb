{
 "cells": [
  {
   "cell_type": "code",
   "execution_count": 16,
   "id": "e4495aa2-1799-4300-9ac8-32230a819b6f",
   "metadata": {
    "tags": []
   },
   "outputs": [
    {
     "name": "stdout",
     "output_type": "stream",
     "text": [
      "Total Number of Stock By COTTON is 11\n"
     ]
    }
   ],
   "source": [
    "class Clothing:\n",
    "    stock = {'name' : [], 'material' : [], 'amount' : []}\n",
    "    def __init__(self,name):\n",
    "        material = ''\n",
    "        self.name = name\n",
    "\n",
    "    def add_item(self, name, material, amount):\n",
    "        Clothing.stock['name'].append(self.name)\n",
    "        Clothing.stock['material'].append(self.material)\n",
    "        Clothing.stock['amount'].append(amount)\n",
    "\n",
    "    def stock_by_material(self, material):\n",
    "        count = 0\n",
    "        n = 0\n",
    "        for item in Clothing.stock['material']:\n",
    "            if item == material:\n",
    "                count += Clothing.stock['amount'][n]\n",
    "                n+=1\n",
    "        return 'Total Number of Stock By {} is {}'.format(self.material.upper(),count)\n",
    "    \n",
    "class Shirts(Clothing):\n",
    "    material = 'cotton'\n",
    "    \n",
    "class Pants(Clothing):\n",
    "    material = 'cotton'\n",
    "    \n",
    "polo = Shirts('polo')\n",
    "polo.add_item(polo.name, polo.material, 4)\n",
    "\n",
    "sweatpant = Pants('sweatpant')\n",
    "sweatpant.add_item(sweatpant.name, sweatpant.material, 7)\n",
    "\n",
    "current_stock = polo.stock_by_material('cotton')\n",
    "print(current_stock)                "
   ]
  },
  {
   "cell_type": "code",
   "execution_count": 23,
   "id": "b4e7bf03-e59e-4c67-80ef-3b9d87f674a6",
   "metadata": {},
   "outputs": [
    {
     "name": "stdout",
     "output_type": "stream",
     "text": [
      "read\n"
     ]
    }
   ],
   "source": [
    "my_string  = \"I'm ready\"\n",
    "print(my_string[4:8])"
   ]
  },
  {
   "cell_type": "code",
   "execution_count": 27,
   "id": "738648cc-ccca-4bd5-909c-7fc3275ede93",
   "metadata": {
    "tags": []
   },
   "outputs": [
    {
     "name": "stdout",
     "output_type": "stream",
     "text": [
      "{'india': 'newDelhi', 'Bangladesh': 'Dhaka', 'pakistan': 'Islamabad'}\n"
     ]
    }
   ],
   "source": [
    "capitals = {\n",
    "    \"india\" : \"newDelhi\",\n",
    "    \"Bangladesh\" : \"Dhaka\"\n",
    "}\n",
    "capitals.update({\"pakistan\": \"Islamabad\"})\n",
    "\n",
    "print(capitals)"
   ]
  },
  {
   "cell_type": "code",
   "execution_count": null,
   "id": "ea341223-3a4c-4f2b-b9d4-f09ac2f47db7",
   "metadata": {},
   "outputs": [],
   "source": []
  }
 ],
 "metadata": {
  "kernelspec": {
   "display_name": "Python 3 (ipykernel)",
   "language": "python",
   "name": "python3"
  },
  "language_info": {
   "codemirror_mode": {
    "name": "ipython",
    "version": 3
   },
   "file_extension": ".py",
   "mimetype": "text/x-python",
   "name": "python",
   "nbconvert_exporter": "python",
   "pygments_lexer": "ipython3",
   "version": "3.10.6"
  }
 },
 "nbformat": 4,
 "nbformat_minor": 5
}

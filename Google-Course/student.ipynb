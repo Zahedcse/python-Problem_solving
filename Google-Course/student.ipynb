{
 "cells": [
  {
   "cell_type": "code",
   "execution_count": 38,
   "id": "807d2976-2c66-4b44-becb-5509b40f9421",
   "metadata": {
    "tags": []
   },
   "outputs": [
    {
     "name": "stdout",
     "output_type": "stream",
     "text": [
      "Student Details: \n",
      "\n",
      "Student Name: Md Zahed Alam\n",
      "Roll: 2\n",
      "Section: A\n",
      "Mobile: 01846-899956\n",
      "Address: \n",
      " Village: Charsaha Bhikari\n",
      "Post Office: Kasari-pukur\n",
      "Thana: Sonagazi\n",
      "District: Feni\n"
     ]
    }
   ],
   "source": [
    "class Student:\n",
    "    def __init__(self, name, roll, section, mobile):\n",
    "        self.name = name\n",
    "        self.roll = roll\n",
    "        self.section = section\n",
    "        self.mobile = mobile\n",
    "        self.address = None\n",
    "        #gender\n",
    "        #religion\n",
    "        #nationality\n",
    "        #blood_group\n",
    "        \n",
    "    \n",
    "    def view(self):\n",
    "        print('Student Details: ')\n",
    "        print()\n",
    "        print(\"Student Name: {}\".format(self.name))\n",
    "        print('Roll: {}'.format(self.roll))\n",
    "        print('Section: {}'.format(self.section))\n",
    "        print('Mobile: {}'.format(self.mobile))\n",
    "        \n",
    "        if self.address:\n",
    "            print(self.address)\n",
    "            \n",
    "class Address:\n",
    "    def __init__(self,village, post_office, thana, district):\n",
    "        self.village = village\n",
    "        self.post_office = post_office\n",
    "        self.thana = thana\n",
    "        self.district = district\n",
    "        \n",
    "    def __str__(self):\n",
    "        return 'Address: \\n Village: {}\\nPost Office: {}\\nThana: {}\\nDistrict: {}'.format(self.village, self.post_office, self.thana, self.district)\n",
    "        \n",
    "Zahed = Student('Md Zahed Alam', '2', 'A','01846-899956')\n",
    "# print(Zahed)\n",
    "Zahed.address = Address('Charsaha Bhikari', 'Kasari-pukur','Sonagazi', 'Feni')\n",
    "Zahed.view()"
   ]
  },
  {
   "cell_type": "code",
   "execution_count": 45,
   "id": "a922684b-7f0b-4913-a18d-e17c5958d97a",
   "metadata": {
    "tags": []
   },
   "outputs": [
    {
     "name": "stdout",
     "output_type": "stream",
     "text": [
      "Student Details: \n",
      "\n",
      "Student Name: Md Zahed Alam\n",
      "Student Roll: 2\n",
      "Student Section: A\n",
      "Student Mobile: 01846-899956\n",
      "\n",
      "Address: \n",
      "Village: Charsaha Bhikari\n",
      "Post Office: Kasari-pukur\n",
      "Thana: Sonagazi\n",
      "District: Feni\n"
     ]
    }
   ],
   "source": [
    "class Student:\n",
    "    def __init__(self, name, roll, section, mobile):\n",
    "        self.name = name\n",
    "        self.roll = roll\n",
    "        self.section = section\n",
    "        self.mobile = mobile\n",
    "        self.address = None\n",
    "        \n",
    "    def view(self):\n",
    "        print('Student Details: ')\n",
    "        print()\n",
    "        print(f\"Student Name: {self.name or ''}\")\n",
    "        print(f\"Student Roll: {self.roll or ''}\")\n",
    "        print(f\"Student Section: {self.section or ''}\")\n",
    "        print(f\"Student Mobile: {self.mobile or ''}\")\n",
    "        print()\n",
    "        if self.address:\n",
    "            print(self.address)\n",
    "            \n",
    "class Address:\n",
    "    def __init__(self, village, post_office, thana, district):\n",
    "        self.village = village\n",
    "        self.post_office = post_office\n",
    "        self.thana = thana\n",
    "        self.district = district\n",
    "        \n",
    "    def __str__(self):\n",
    "        return 'Address: \\nVillage: {}\\nPost Office: {}\\nThana: {}\\nDistrict: {}'.format(self.village, self.post_office, self.thana, self.district)\n",
    "        \n",
    "Zahed = Student('Md Zahed Alam', '2', 'A', '01846-899956')\n",
    "Zahed.address = Address('Charsaha Bhikari', 'Kasari-pukur', 'Sonagazi', 'Feni')\n",
    "Zahed.view()\n"
   ]
  },
  {
   "cell_type": "code",
   "execution_count": 32,
   "id": "6cd2df27-1f28-4007-aecd-1fcc018cd14c",
   "metadata": {
    "tags": []
   },
   "outputs": [
    {
     "name": "stdout",
     "output_type": "stream",
     "text": [
      "Student Details:\n",
      "Student Name: Md Zahed Alam\n",
      "Roll: 2\n",
      "Section: A\n",
      "Mobile: 01846-899956\n",
      "Address:\n",
      "Village: Charsaha Bhikari\n",
      "Post Office: Kasari-pukur\n",
      "Thana: Sonagazi\n",
      "District: Feni\n"
     ]
    }
   ],
   "source": [
    "class Student:\n",
    "    def __init__(self, name, roll, section, mobile):\n",
    "        self.name = name\n",
    "        self.roll = roll\n",
    "        self.section = section\n",
    "        self.mobile = mobile\n",
    "        self.address = None\n",
    "        \n",
    "    def view(self):\n",
    "        print('Student Details:')\n",
    "        print(f\"Student Name: {self.name or ''}\")\n",
    "        print(f\"Roll: {self.roll or ''}\")\n",
    "        print(f\"Section: {self.section or ''}\")\n",
    "        print(f\"Mobile: {self.mobile or ''}\")\n",
    "        if self.address:\n",
    "            print(self.address)\n",
    "            \n",
    "class Address:\n",
    "    def __init__(self, village, post_office, thana, district):\n",
    "        self.village = village\n",
    "        self.post_office = post_office\n",
    "        self.thana = thana\n",
    "        self.district = district\n",
    "        \n",
    "    def __str__(self):\n",
    "        return f\"Address:\\nVillage: {self.village}\\nPost Office: {self.post_office}\\nThana: {self.thana}\\nDistrict: {self.district}\"\n",
    "        \n",
    "Zahed = Student('Md Zahed Alam', '2', 'A', '01846-899956')\n",
    "Zahed.address = Address('Charsaha Bhikari', 'Kasari-pukur', 'Sonagazi', 'Feni')\n",
    "Zahed.view()\n"
   ]
  },
  {
   "cell_type": "code",
   "execution_count": 46,
   "id": "29008b68-850c-43fd-b78d-f79b5b9ecdff",
   "metadata": {
    "tags": []
   },
   "outputs": [
    {
     "data": {
      "text/plain": [
       "5"
      ]
     },
     "execution_count": 46,
     "metadata": {},
     "output_type": "execute_result"
    }
   ],
   "source": [
    "import random as rd\n",
    "rd.randint(1,10)"
   ]
  },
  {
   "cell_type": "code",
   "execution_count": 48,
   "id": "650e90bc-f026-4a89-8606-edb5b80525c1",
   "metadata": {
    "tags": []
   },
   "outputs": [
    {
     "data": {
      "text/plain": [
       "10"
      ]
     },
     "execution_count": 48,
     "metadata": {},
     "output_type": "execute_result"
    }
   ],
   "source": [
    "rd.randint(1,10)"
   ]
  },
  {
   "cell_type": "code",
   "execution_count": 50,
   "id": "39604e77-be70-4031-b51d-c87e5909be72",
   "metadata": {
    "tags": []
   },
   "outputs": [
    {
     "ename": "ModuleNotFoundError",
     "evalue": "No module named 'DateTime'",
     "output_type": "error",
     "traceback": [
      "\u001b[0;31m---------------------------------------------------------------------------\u001b[0m",
      "\u001b[0;31mModuleNotFoundError\u001b[0m                       Traceback (most recent call last)",
      "Cell \u001b[0;32mIn[50], line 1\u001b[0m\n\u001b[0;32m----> 1\u001b[0m \u001b[38;5;28;01mfrom\u001b[39;00m \u001b[38;5;21;01mDateTime\u001b[39;00m \u001b[38;5;28;01mimport\u001b[39;00m Timezones \u001b[38;5;28;01mas\u001b[39;00m T\n\u001b[1;32m      2\u001b[0m zones \u001b[38;5;241m=\u001b[39m \u001b[38;5;28mset\u001b[39m(Timezones())\n",
      "\u001b[0;31mModuleNotFoundError\u001b[0m: No module named 'DateTime'"
     ]
    }
   ],
   "source": [
    "from DateTime import Timezones as T\n",
    "zones = set(Timezones())"
   ]
  },
  {
   "cell_type": "code",
   "execution_count": null,
   "id": "f52bed7b-310a-4e9f-b366-9e48530a4a6e",
   "metadata": {},
   "outputs": [],
   "source": []
  }
 ],
 "metadata": {
  "kernelspec": {
   "display_name": "Python 3 (ipykernel)",
   "language": "python",
   "name": "python3"
  },
  "language_info": {
   "codemirror_mode": {
    "name": "ipython",
    "version": 3
   },
   "file_extension": ".py",
   "mimetype": "text/x-python",
   "name": "python",
   "nbconvert_exporter": "python",
   "pygments_lexer": "ipython3",
   "version": "3.10.6"
  }
 },
 "nbformat": 4,
 "nbformat_minor": 5
}

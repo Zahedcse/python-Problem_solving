{
 "cells": [
  {
   "cell_type": "markdown",
   "id": "6bc29504-6c45-4e6e-aa86-1fdd20a4867c",
   "metadata": {
    "tags": []
   },
   "source": [
    "# Tuples are sequences of elements of any type, that are immutable"
   ]
  },
  {
   "cell_type": "code",
   "execution_count": null,
   "id": "376d52bd-97a8-4cdd-a1eb-387ee0bf44af",
   "metadata": {},
   "outputs": [],
   "source": []
  }
 ],
 "metadata": {
  "kernelspec": {
   "display_name": "Python 3 (ipykernel)",
   "language": "python",
   "name": "python3"
  },
  "language_info": {
   "codemirror_mode": {
    "name": "ipython",
    "version": 3
   },
   "file_extension": ".py",
   "mimetype": "text/x-python",
   "name": "python",
   "nbconvert_exporter": "python",
   "pygments_lexer": "ipython3",
   "version": "3.10.6"
  }
 },
 "nbformat": 4,
 "nbformat_minor": 5
}

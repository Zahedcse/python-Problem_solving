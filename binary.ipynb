{
 "cells": [
  {
   "cell_type": "code",
   "execution_count": 3,
   "id": "baa18b40-b6b7-466e-b04a-80f76d8aea8d",
   "metadata": {
    "tags": []
   },
   "outputs": [
    {
     "name": "stdin",
     "output_type": "stream",
     "text": [
      "Enter a Number : 3443\n",
      "Enter Your Desired Base:  10\n"
     ]
    },
    {
     "name": "stdout",
     "output_type": "stream",
     "text": [
      "The number is valid and Converted decimal is :  3443\n"
     ]
    }
   ],
   "source": [
    "num = input('Enter a Number :')\n",
    "base = int(input('Enter Your Desired Base: '))\n",
    "flag = True\n",
    "\n",
    "for i in num:\n",
    "    if int(i) >= base:\n",
    "        flag = False\n",
    "        break\n",
    "        \n",
    "num = num[::-1]\n",
    "pow = 0\n",
    "number = 0\n",
    "\n",
    "for i in num:\n",
    "    number += int(i) * (base ** pow)\n",
    "    pow += 1\n",
    "\n",
    "if flag:\n",
    "    print('The number is valid and Converted decimal is : ', number)\n",
    "else:\n",
    "    print('The given number is Invalid')\n",
    "    "
   ]
  },
  {
   "cell_type": "code",
   "execution_count": null,
   "id": "d537b3f6-8ca0-41ba-80c0-b95a63082a08",
   "metadata": {},
   "outputs": [],
   "source": []
  }
 ],
 "metadata": {
  "kernelspec": {
   "display_name": "Python 3 (ipykernel)",
   "language": "python",
   "name": "python3"
  },
  "language_info": {
   "codemirror_mode": {
    "name": "ipython",
    "version": 3
   },
   "file_extension": ".py",
   "mimetype": "text/x-python",
   "name": "python",
   "nbconvert_exporter": "python",
   "pygments_lexer": "ipython3",
   "version": "3.10.6"
  }
 },
 "nbformat": 4,
 "nbformat_minor": 5
}

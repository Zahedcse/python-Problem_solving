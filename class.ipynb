{
 "cells": [
  {
   "cell_type": "code",
   "execution_count": 19,
   "metadata": {},
   "outputs": [
    {
     "name": "stdout",
     "output_type": "stream",
     "text": [
      "The name of a student is: zahed\n",
      "He reads in class: 8\n",
      "Bearing roll: 1\n",
      "The name of a student is: Namira\n",
      "He reads in class: 3\n",
      "Bearing roll: 1\n",
      "Congratulations on getting promoted\n"
     ]
    }
   ],
   "source": [
    "class student:\n",
    "    def __init__(self,name,clas,roll):\n",
    "        self.name = name\n",
    "        self.clas = clas\n",
    "        self.roll = roll\n",
    "        \n",
    "    def studentInfo(self):\n",
    "        print('The name of a student is: ' +self.name)\n",
    "        print('He reads in class: '+ str(self.clas))\n",
    "        print('Bearing roll: '+ str(self.roll))\n",
    "        \n",
    "    def promote(self):\n",
    "        self.clas+=1\n",
    "    \n",
    "    def promotionGift(self):\n",
    "        self.promote()\n",
    "        self.studentInfo()\n",
    "        print('Congratulations on getting promoted')\n",
    "        \n",
    "zahed = student('zahed',7,1)\n",
    "zahed.promote()\n",
    "zahed.studentInfo()\n",
    "\n",
    "Namira = student('Namira',2,1)\n",
    "Namira.promotionGift()"
   ]
  },
  {
   "cell_type": "code",
   "execution_count": null,
   "metadata": {},
   "outputs": [],
   "source": []
  },
  {
   "cell_type": "code",
   "execution_count": 10,
   "metadata": {},
   "outputs": [
    {
     "data": {
      "text/plain": [
       "'Name: Naim Hasan\\n, Address: Chittagong, Roll: 2, Section: Dhalia, Blood Group: O+'"
      ]
     },
     "execution_count": 11,
     "metadata": {},
     "output_type": "execute_result"
    }
   ],
   "source": [
    "class Student:\n",
    "    def __init__(self, name, address, roll, section, blood_group):\n",
    "        self.name = name\n",
    "        self.address = address\n",
    "        self.roll = roll\n",
    "        self.section = section\n",
    "        self.blood_group =  blood_group\n",
    "    \n",
    "    def view(self):\n",
    "        return 'Name: {}, Address: {}, Roll: {}, Section: {}, Blood Group: {}'.format(self.name, self.address, self.roll, self.section, self.blood_group)\n",
    "\n",
    "Naim = Student('Naim Hasan', 'Chittagong', 2, 'Dhalia', 'O+')\n",
    "Naim.view()\n"
   ]
  },
  {
   "cell_type": "code",
   "execution_count": null,
   "metadata": {},
   "outputs": [],
   "source": []
  }
 ],
 "metadata": {
  "kernelspec": {
   "display_name": "Python 3 (ipykernel)",
   "language": "python",
   "name": "python3"
  },
  "language_info": {
   "codemirror_mode": {
    "name": "ipython",
    "version": 3
   },
   "file_extension": ".py",
   "mimetype": "text/x-python",
   "name": "python",
   "nbconvert_exporter": "python",
   "pygments_lexer": "ipython3",
   "version": "3.10.6"
  }
 },
 "nbformat": 4,
 "nbformat_minor": 4
}

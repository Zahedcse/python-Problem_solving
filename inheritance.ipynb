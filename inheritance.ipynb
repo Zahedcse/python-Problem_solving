{
 "cells": [
  {
   "cell_type": "code",
   "execution_count": 4,
   "metadata": {},
   "outputs": [
    {
     "name": "stdout",
     "output_type": "stream",
     "text": [
      "My Name is : Harry and I am 26 years old\n"
     ]
    }
   ],
   "source": [
    "class person:\n",
    "    def __init__(self,name,age):\n",
    "        self.name = name\n",
    "        self.age = age\n",
    "    \n",
    "    def describe(self):\n",
    "        print('My Name is : '+ self.name + ' and I am ' + str(self.age)+ ' years old')\n",
    "\n",
    "        \n",
    "a = person('Harry',26)\n",
    "a.describe()"
   ]
  },
  {
   "cell_type": "code",
   "execution_count": 16,
   "metadata": {},
   "outputs": [
    {
     "name": "stdout",
     "output_type": "stream",
     "text": [
      "My Name is : larry and I am 27 years old\n",
      "I am in class  2\n"
     ]
    }
   ],
   "source": [
    "class Student(person):\n",
    "    def __init__(self,name,age,clas):\n",
    "        super().__init__(name,age)\n",
    "        self.clas = clas\n",
    "    def describe(self):\n",
    "        super().describe()\n",
    "        print('I am in class ' ,self.clas)\n",
    "b = Student('larry', 27, 2)\n",
    "b.describe()"
   ]
  },
  {
   "cell_type": "markdown",
   "metadata": {},
   "source": [
    "# Multiple Inheritance"
   ]
  },
  {
   "cell_type": "code",
   "execution_count": 21,
   "metadata": {},
   "outputs": [
    {
     "name": "stdout",
     "output_type": "stream",
     "text": [
      "I am in class a\n",
      "Hello World from a\n"
     ]
    }
   ],
   "source": [
    "class a():\n",
    "    def __init__(self):\n",
    "        print('I am in class a')\n",
    "    def hello(self):\n",
    "        print('Hello World from a')\n",
    "        \n",
    "class b():\n",
    "    def __init__(self):\n",
    "        print('I am in class b')\n",
    "    def hello1(self):\n",
    "        print('Hello World from b')\n",
    "        \n",
    "class c(a,b):\n",
    "#     def __init__(self):\n",
    "#         print('I am in class c')\n",
    "#     def hello():\n",
    "#         print('Hello World from c')\n",
    "    pass\n",
    "\n",
    "x = c()\n",
    "x.hello()\n",
    "        \n"
   ]
  },
  {
   "cell_type": "code",
   "execution_count": null,
   "metadata": {},
   "outputs": [],
   "source": []
  }
 ],
 "metadata": {
  "kernelspec": {
   "display_name": "Python 3 (ipykernel)",
   "language": "python",
   "name": "python3"
  },
  "language_info": {
   "codemirror_mode": {
    "name": "ipython",
    "version": 3
   },
   "file_extension": ".py",
   "mimetype": "text/x-python",
   "name": "python",
   "nbconvert_exporter": "python",
   "pygments_lexer": "ipython3",
   "version": "3.10.6"
  }
 },
 "nbformat": 4,
 "nbformat_minor": 4
}

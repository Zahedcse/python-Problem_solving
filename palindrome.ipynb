{
 "cells": [
  {
   "cell_type": "markdown",
   "id": "73ab4918-1ce0-490f-984b-6acae3d4f078",
   "metadata": {
    "tags": []
   },
   "source": [
    "# Check a Word is Palindrome or not"
   ]
  },
  {
   "cell_type": "code",
   "execution_count": 10,
   "id": "f4d296a5-1a0b-4985-8fb8-799aa3050958",
   "metadata": {
    "tags": []
   },
   "outputs": [
    {
     "data": {
      "text/plain": [
       "True"
      ]
     },
     "execution_count": 10,
     "metadata": {},
     "output_type": "execute_result"
    }
   ],
   "source": [
    "def isPal(s):\n",
    "    if len(s) < 2:\n",
    "        return True\n",
    "    elif s[0] != s[-1]:\n",
    "        return False\n",
    "    else:\n",
    "        return isPal(s[1:-1])\n",
    "isPal('aba')"
   ]
  },
  {
   "cell_type": "markdown",
   "id": "4dfcb29c-1b34-4ba4-937c-dfd5779decdb",
   "metadata": {
    "tags": []
   },
   "source": [
    "# find GCD from given value"
   ]
  },
  {
   "cell_type": "code",
   "execution_count": 24,
   "id": "28d9f783-e573-4f8d-a96f-643a357e8f61",
   "metadata": {
    "tags": []
   },
   "outputs": [],
   "source": [
    "import math\n",
    "def gcd(*nums):\n",
    "    i = 1\n",
    "    res = nums[0]\n",
    "    while (i<len(nums)):\n",
    "        res = math.gcd(res,nums[i])\n",
    "        i+=1\n",
    "    print(res)"
   ]
  },
  {
   "cell_type": "code",
   "execution_count": 29,
   "id": "90e78277-4023-47a2-8d3c-fcbfcef1ff2e",
   "metadata": {
    "tags": []
   },
   "outputs": [
    {
     "data": {
      "text/plain": [
       "30"
      ]
     },
     "execution_count": 29,
     "metadata": {},
     "output_type": "execute_result"
    }
   ],
   "source": [
    "x = lambda a,b:a+b+5\n",
    "x(10,15)"
   ]
  },
  {
   "cell_type": "code",
   "execution_count": 12,
   "id": "8a1336e8-5c39-4ed1-a76b-939057f26045",
   "metadata": {
    "tags": []
   },
   "outputs": [
    {
     "data": {
      "text/plain": [
       "15"
      ]
     },
     "execution_count": 12,
     "metadata": {},
     "output_type": "execute_result"
    }
   ],
   "source": [
    "def multiplier(n):\n",
    "    return lambda x: x * n\n",
    "x = multiplier(3)\n",
    "x(5)"
   ]
  },
  {
   "cell_type": "code",
   "execution_count": null,
   "id": "5524407e-90d9-4c89-993d-93a571f78361",
   "metadata": {},
   "outputs": [],
   "source": []
  }
 ],
 "metadata": {
  "kernelspec": {
   "display_name": "Python 3 (ipykernel)",
   "language": "python",
   "name": "python3"
  },
  "language_info": {
   "codemirror_mode": {
    "name": "ipython",
    "version": 3
   },
   "file_extension": ".py",
   "mimetype": "text/x-python",
   "name": "python",
   "nbconvert_exporter": "python",
   "pygments_lexer": "ipython3",
   "version": "3.10.6"
  }
 },
 "nbformat": 4,
 "nbformat_minor": 5
}

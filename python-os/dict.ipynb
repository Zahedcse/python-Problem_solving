{
 "cells": [
  {
   "cell_type": "code",
   "execution_count": null,
   "id": "be5d31d0-7dee-44b1-b318-50d29b1bb54e",
   "metadata": {},
   "outputs": [],
   "source": [
    "keys = ['name', 'username', 'department']\n",
    "with open('by_department.csv','w') as by_department:\n",
    "    writer = csv.DictWriter(by_department, fiel)"
   ]
  }
 ],
 "metadata": {
  "kernelspec": {
   "display_name": "Python 3 (ipykernel)",
   "language": "python",
   "name": "python3"
  },
  "language_info": {
   "codemirror_mode": {
    "name": "ipython",
    "version": 3
   },
   "file_extension": ".py",
   "mimetype": "text/x-python",
   "name": "python",
   "nbconvert_exporter": "python",
   "pygments_lexer": "ipython3",
   "version": "3.10.6"
  }
 },
 "nbformat": 4,
 "nbformat_minor": 5
}

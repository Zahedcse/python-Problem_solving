{
 "cells": [
  {
   "cell_type": "code",
   "execution_count": 13,
   "id": "2131ce7d-4ba5-4be3-a088-83a088a5b703",
   "metadata": {
    "tags": []
   },
   "outputs": [
    {
     "name": "stdout",
     "output_type": "stream",
     "text": [
      "5 7\n"
     ]
    },
    {
     "data": {
      "text/plain": [
       "[-9, -8, -4, 5, 6, 7, 8, 9]"
      ]
     },
     "execution_count": 13,
     "metadata": {},
     "output_type": "execute_result"
    }
   ],
   "source": [
    "x = [-4,-8,-9,5,9,7,8,6]\n",
    "sum = 16\n",
    "current = 0\n",
    "x = sorted(x)\n",
    "left = 0\n",
    "right = len(x)-1\n",
    "flag = True\n",
    "while left != right:\n",
    "    current = x[left] + x[right]\n",
    "    if current == sum:\n",
    "        print(left, right)\n",
    "        flag = False\n",
    "        break\n",
    "    elif current < sum:\n",
    "        left += 1\n",
    "    else:\n",
    "        right -= 1\n",
    "if flag:    \n",
    "    print('Not Found')\n",
    "x"
   ]
  },
  {
   "cell_type": "markdown",
   "id": "7a1fbe63-1a0f-47e2-b7b4-6688c217d068",
   "metadata": {},
   "source": [
    "# List of string will be given and need to print to line of code"
   ]
  },
  {
   "cell_type": "raw",
   "id": "cc3b5b8c-d290-40c4-9c7e-0d5b19700046",
   "metadata": {
    "tags": []
   },
   "source": [
    "x = 5\n",
    "y = 3\n",
    "z = 7\n",
    "if y == x:\n",
    "    if z == y:\n",
    "        print(x)\n",
    "        endif\n",
    "    endif\n",
    "else:\n",
    "    do rand stuff\n",
    "    endelse\n",
    "for omuk in tomuk:\n",
    "    sjdnjfdf\n",
    "    fdhfdhf\n",
    "    endfor\n",
    "    \n",
    "    "
   ]
  },
  {
   "cell_type": "code",
   "execution_count": 18,
   "id": "2e28c3f3-5595-4f18-957f-e42ffa310faa",
   "metadata": {
    "tags": []
   },
   "outputs": [
    {
     "name": "stdout",
     "output_type": "stream",
     "text": [
      "x = 5\n",
      "y = 3\n",
      "z = 7\n",
      "if y == z:\n",
      "\tif z == y:\n",
      "\t\tprint(x)\n",
      "\t\tendif\n",
      "\telse:\n",
      "\tdo random stuff\n",
      "\tendelse\n",
      "\tjsdjfdf\n",
      "\tdfsdfsf\n",
      "\tfor omuk in tomuk:\n",
      "\t\tdffgfg\n",
      "\t\tfgdfgdf\n",
      "\t\tendfor\n"
     ]
    }
   ],
   "source": [
    "x = ['x = 5','y = 3', 'z = 7', 'if y == z:','if z == y:','print(x)','endif','else:',\n",
    "    'do random stuff','endelse','jsdjfdf','dfsdfsf','for omuk in tomuk:','dffgfg',\n",
    "    'fgdfgdf','endfor']\n",
    "\n",
    "t = 0\n",
    "for line in x:\n",
    "    for i in range(t):\n",
    "        print('\\t', end = '')\n",
    "    print(line)\n",
    "    \n",
    "    if line.startswith('if') or line.startswith('for'):\n",
    "        t += 1\n",
    "    elif line.endswith('endif') or line.startswith('endfor'):\n",
    "        if t > 0:\n",
    "            t -= 1"
   ]
  },
  {
   "cell_type": "code",
   "execution_count": 9,
   "id": "9896f621-96e7-47b9-8c58-cea03aade2b6",
   "metadata": {
    "tags": []
   },
   "outputs": [
    {
     "name": "stdin",
     "output_type": "stream",
     "text": [
      "Enter the Integers:  34 45 \n"
     ]
    },
    {
     "name": "stdout",
     "output_type": "stream",
     "text": [
      "39.5\n"
     ]
    },
    {
     "name": "stdin",
     "output_type": "stream",
     "text": [
      "Enter the Integers:  stop\n"
     ]
    }
   ],
   "source": [
    "numbers = []\n",
    "while True:\n",
    "    x = input('Enter the Integers: ')\n",
    "    if not x:\n",
    "        continue\n",
    "    if x == 'stop':\n",
    "        break\n",
    "        \n",
    "    for i in x.split():\n",
    "        numbers.append(int(i))\n",
    "    s = sum(numbers)\n",
    "    mean = s/len(numbers)\n",
    "    print(mean)\n",
    "    numbers = []\n",
    "    \n",
    "        "
   ]
  },
  {
   "cell_type": "code",
   "execution_count": 5,
   "id": "17f74d2d-82cb-46ee-bec5-87987dd68aa2",
   "metadata": {
    "tags": []
   },
   "outputs": [
    {
     "name": "stdin",
     "output_type": "stream",
     "text": [
      "Enter the Integers:  2 334 45 56\n"
     ]
    },
    {
     "name": "stdout",
     "output_type": "stream",
     "text": [
      "Mean --> 109.25\n"
     ]
    },
    {
     "name": "stdin",
     "output_type": "stream",
     "text": [
      "Enter the Integers:  stop\n"
     ]
    }
   ],
   "source": [
    "numbers = []\n",
    "while True:\n",
    "    x = input('Enter the Integers: ')\n",
    "    if not x:\n",
    "        continue\n",
    "    if x == 'stop':\n",
    "        break\n",
    "    for i in x.split():\n",
    "        numbers.append(int(i))\n",
    "    s = sum(numbers)\n",
    "    mean = s/len(numbers)\n",
    "    print('Mean:',mean)\n",
    "    numbers = []\n"
   ]
  },
  {
   "cell_type": "markdown",
   "id": "50f64480-b758-42e2-b20e-1451ba515591",
   "metadata": {
    "tags": []
   },
   "source": [
    "# You are given price of various goods . given an array of items , find the final price"
   ]
  },
  {
   "cell_type": "code",
   "execution_count": 47,
   "id": "9640d752-6eb2-40c3-9d5c-5a63f31cf291",
   "metadata": {
    "tags": []
   },
   "outputs": [
    {
     "name": "stdin",
     "output_type": "stream",
     "text": [
      "Enter the items:  onion 1.2kg, ginger 300gm, beef 3kg\n"
     ]
    },
    {
     "name": "stdout",
     "output_type": "stream",
     "text": [
      "1.2\n",
      "onion 1.2kg 70 1.2\n",
      " ginger 300gm 300 0.3\n",
      "3.0\n",
      " beef 3kg 700 3.0\n",
      "The total price is : 2274.0\n"
     ]
    }
   ],
   "source": [
    "price = {'onion': 70, 'beef': 700, 'ginger': 300}\n",
    "x = input('Enter the items: ').split(',')\n",
    "sum_ = 0\n",
    "\n",
    "for element in x:\n",
    "    z = element.split()\n",
    "    item = z[0] \n",
    "    if z[1][-1] == 'm':\n",
    "        amount = float(z[1][:-2]) / 1000\n",
    "    else:\n",
    "        amount = float(z[1][:-2])\n",
    "        print(amount)\n",
    "    sum_ += price[item.lower()] * amount\n",
    "    print(element, price[item],amount)\n",
    "\n",
    "print('The total price is :',sum_)"
   ]
  },
  {
   "cell_type": "code",
   "execution_count": 66,
   "id": "622c9b72-d1ec-4393-aa64-2bbb77a0802c",
   "metadata": {
    "tags": []
   },
   "outputs": [
    {
     "name": "stdin",
     "output_type": "stream",
     "text": [
      "How Many products you want to add?:  2\n",
      "Enter key for item 1: Rice\n",
      "Enter value for the item Rice: 700\n",
      "Enter key for item 2: chilly\n",
      "Enter value for the item chilly: 300\n"
     ]
    },
    {
     "name": "stdout",
     "output_type": "stream",
     "text": [
      "{'Rice': '700', 'chilly': '300'}\n"
     ]
    }
   ],
   "source": [
    "product = {}\n",
    "element = int(input('How Many products you want to add?: '))\n",
    "\n",
    "for i in range(element):\n",
    "    key = input('Enter key for item {}:'.format(i+1))\n",
    "    value = input('Enter value for the item {}:'.format(key))\n",
    "    product[key] = value\n",
    "    \n",
    "print(product)"
   ]
  },
  {
   "cell_type": "code",
   "execution_count": null,
   "id": "fd043ac6-46d1-41a0-8a50-e02b19153078",
   "metadata": {
    "tags": []
   },
   "outputs": [],
   "source": []
  },
  {
   "cell_type": "code",
   "execution_count": null,
   "id": "0cba1cfe-890c-4a56-8ee9-9baedfa54b72",
   "metadata": {},
   "outputs": [],
   "source": []
  }
 ],
 "metadata": {
  "kernelspec": {
   "display_name": "Python 3 (ipykernel)",
   "language": "python",
   "name": "python3"
  },
  "language_info": {
   "codemirror_mode": {
    "name": "ipython",
    "version": 3
   },
   "file_extension": ".py",
   "mimetype": "text/x-python",
   "name": "python",
   "nbconvert_exporter": "python",
   "pygments_lexer": "ipython3",
   "version": "3.10.6"
  }
 },
 "nbformat": 4,
 "nbformat_minor": 5
}
